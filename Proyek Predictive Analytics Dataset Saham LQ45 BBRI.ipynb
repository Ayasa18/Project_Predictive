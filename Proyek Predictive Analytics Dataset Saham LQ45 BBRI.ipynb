{
  "cells": [
    {
      "cell_type": "markdown",
      "metadata": {
        "id": "H9wADwK78DCz"
      },
      "source": [
        "# Proyek Predictive Analytics: [Dataset Saham LQ45 BBRI]\n",
        "- **Nama:** [Aditiya Saputra]\n",
        "- **Email:** [AditiyaS1811@gmail.com]\n",
        "- **ID Dicoding:** [aditiya18]\n",
        "\n",
        "Source Dataset : https://github.com/wildangunawan/Dataset-Saham-IDX/blob/master/Saham/LQ45/BBRI.csv"
      ]
    },
    {
      "cell_type": "markdown",
      "metadata": {
        "id": "8YvWec68rxAs"
      },
      "source": [
        "##Deskripsi Proyek\n",
        "\n",
        "Proyek ini bertujuan untuk memprediksi pergerakan harga saham BBRI yang merupakan bagian dari indeks LQ45, dengan menggunakan metode predictive analytics berbasis machine learning. Dataset yang digunakan berisi data historis harga saham BBRI dari indeks LQ45 yang mencakup berbagai faktor seperti harga pembukaan, penutupan, tertinggi, terendah, serta volume perdagangan. Data ini digunakan untuk melatih model yang dapat memprediksi harga saham atau tren pergerakan harga di masa depan.\n",
        "\n",
        "Langkah-langkah dalam proyek ini:\n",
        "1.   Persiapan Data:\n",
        "    *   Dataset saham BBRI diambil dari sumber terpercaya, lalu diproses untuk menangani nilai yang hilang dan memastikan kualitas data yang digunakan.\n",
        "    *   Normalisasi dilakukan menggunakan MinMaxScaler untuk memastikan bahwa semua fitur berada dalam rentang yang konsisten, yang mempermudah proses pelatihan model.\n",
        "    *   Split Data menjadi 80:20\n",
        "2.   Pemodelan:\n",
        "    *   Model yang digunakan adalah Long Short-Term Memory (LSTM), yang merupakan jenis jaringan saraf tiruan yang sangat efektif dalam memproses data sekuensial atau time series seperti harga saham.\n",
        "    *   Proses pelatihan dilakukan untuk menemukan pola dalam data historis yang dapat digunakan untuk memprediksi harga saham BBRI di masa depan.\n",
        "3.   Prediksi dan Visualisasi:\n",
        "    *   Setelah model terlatih, digunakan untuk memprediksi harga saham BBRI\n",
        "    *   Visualisasi hasil prediksi dibandingkan dengan harga saham aktual untuk mengevaluasi kinerja model secara visual.\n",
        "4.   Evaluasi Model:\n",
        "    *   Model dievaluasi menggunakan berbagai metrik, seperti MSE (Mean Squared Error) dan MAE (Mean Absolute Error),dan R2 Score untuk mengukur seberapa akurat prediksi yang dihasilkan oleh model.\n",
        "    *   Perbandingan dilakukan dengan data validasi untuk menghindari overfitting dan memastikan generalisasi yang baik.\n",
        "\n",
        "Tujuan Proyek:\n",
        "\n",
        "\n",
        "*   Mengembangkan model prediktif yang dapat memberikan wawasan tentang kemungkinan pergerakan harga saham BBRI di masa depan.\n",
        "*   Memberikan dasar yang kuat bagi pengambilan keputusan investasi berdasarkan data historis dan analisis prediktif.\n",
        "\n",
        "Proyek ini tidak hanya meningkatkan pemahaman tentang penggunaan LSTM dalam analisis keuangan, tetapi juga menguji bagaimana teknik predictive analytics dapat diterapkan pada pasar saham untuk memprediksi tren harga dengan akurasi yang tinggi.\n",
        "\n",
        "\n",
        "\n",
        "\n"
      ]
    },
    {
      "cell_type": "markdown",
      "metadata": {
        "id": "H-z4QGlO8DC1"
      },
      "source": [
        "## Import Semua Packages/Library yang Digunakan"
      ]
    },
    {
      "cell_type": "code",
      "execution_count": 1,
      "metadata": {
        "colab": {
          "base_uri": "https://localhost:8080/"
        },
        "id": "FVYwaObI8DC1",
        "outputId": "32a9f86c-929e-4948-944b-34bd3dcdada0"
      },
      "outputs": [
        {
          "name": "stdout",
          "output_type": "stream",
          "text": [
            "Requirement already satisfied: ta in /usr/local/lib/python3.11/dist-packages (0.11.0)\n",
            "Requirement already satisfied: numpy in /usr/local/lib/python3.11/dist-packages (from ta) (2.0.2)\n",
            "Requirement already satisfied: pandas in /usr/local/lib/python3.11/dist-packages (from ta) (2.2.2)\n",
            "Requirement already satisfied: python-dateutil>=2.8.2 in /usr/local/lib/python3.11/dist-packages (from pandas->ta) (2.8.2)\n",
            "Requirement already satisfied: pytz>=2020.1 in /usr/local/lib/python3.11/dist-packages (from pandas->ta) (2025.2)\n",
            "Requirement already satisfied: tzdata>=2022.7 in /usr/local/lib/python3.11/dist-packages (from pandas->ta) (2025.2)\n",
            "Requirement already satisfied: six>=1.5 in /usr/local/lib/python3.11/dist-packages (from python-dateutil>=2.8.2->pandas->ta) (1.17.0)\n"
          ]
        }
      ],
      "source": [
        "###install (Technical Analysis Library di Python)\n",
        "!pip install ta\n",
        "import pandas as pd ###manipulasi dan analisis data tabular\n",
        "import numpy as np ###pengolahan data numerik\n",
        "import matplotlib.pyplot as plt ###membuat visualisasi, grafik, dan plot data.\n",
        "import seaborn as sns ### membuat visualisasi data yang lebih menarik dan informatif dengan lebih sedikit kode\n",
        "import tensorflow as tf ### membangun model jaringan saraf tiruan (neural network) berbasis LSTM (Long Short-Term Memory)\n",
        "from tensorflow import keras ###pembuatan dan pelatihan model jaringan saraf.\n",
        "sns.set_style(\"whitegrid\") ###latar belakang plot akan menjadi putih, dan grid akan ditampilkan di belakang plot\n",
        "plt.style.use(\"fivethirtyeight\") ###visualisasi data yang mirip dengan yang digunakan oleh FiveThirtyEight\n",
        "from datetime import datetime ###impor fungsi datetime\n",
        "from sklearn.preprocessing import MinMaxScaler ###import untuk normalisasi data\n",
        "from keras.models import Sequential  ###import class untuk neural network\n",
        "from keras.layers import Dense, LSTM ###Import dense untuk melakukan transformasi linier\n",
        "import ta ###import technical analysis\n",
        "import warnings ###mengendalikan pesan peringatan (warnings) yang dapat muncul selama eksekusi kode\n",
        "warnings.filterwarnings(\"ignore\") ###mengabaikan semua pesan peringatan yang mungkin muncul selama eksekusi kode\n",
        "from datetime import date ###berguna untuk bekerja dengan tanggal dalam Python"
      ]
    },
    {
      "cell_type": "markdown",
      "metadata": {
        "id": "TK4DvqfbYrN8"
      },
      "source": [
        "## Data Preparation"
      ]
    },
    {
      "cell_type": "markdown",
      "metadata": {
        "id": "HHekw29KX4XQ"
      },
      "source": [
        "### Data Loading"
      ]
    },
    {
      "cell_type": "code",
      "execution_count": 2,
      "metadata": {
        "colab": {
          "base_uri": "https://localhost:8080/"
        },
        "id": "wIcv1F9fX4XQ",
        "outputId": "1efd600b-a0b9-4fc8-9898-bc2855bce10b"
      },
      "outputs": [
        {
          "name": "stdout",
          "output_type": "stream",
          "text": [
            "         date  previous  open_price  first_trade    high     low   close  \\\n",
            "0  2019-07-29    4440.0      4480.0       4480.0  4480.0  4440.0  4460.0   \n",
            "1  2019-07-30    4460.0      4500.0       4500.0  4500.0  4460.0  4500.0   \n",
            "2  2019-07-31    4500.0      4500.0       4500.0  4510.0  4450.0  4480.0   \n",
            "3  2019-08-01    4480.0      4490.0       4490.0  4510.0  4410.0  4450.0   \n",
            "4  2019-08-02    4450.0      4400.0       4400.0  4470.0  4390.0  4450.0   \n",
            "\n",
            "   change       volume         value  ...  bid_volume  listed_shares  \\\n",
            "0    20.0   91877000.0  4.098494e+11  ...  10409200.0   1.221124e+11   \n",
            "1    40.0   68755800.0  3.086996e+11  ...    468200.0   1.221124e+11   \n",
            "2   -20.0  105834600.0  4.738443e+11  ...     16700.0   1.221124e+11   \n",
            "3   -30.0  143626600.0  6.393417e+11  ...   1935200.0   1.221124e+11   \n",
            "4     0.0  119342500.0  5.291418e+11  ...   2775800.0   1.221124e+11   \n",
            "\n",
            "   tradeble_shares  weight_for_index  foreign_sell  foreign_buy  \\\n",
            "0     1.221124e+11      1.221124e+11    81038800.0   42272500.0   \n",
            "1     1.221124e+11      1.221124e+11    29698800.0   31106400.0   \n",
            "2     1.221124e+11      1.221124e+11    92869100.0   64220800.0   \n",
            "3     1.221124e+11      1.221124e+11    85420900.0   64853300.0   \n",
            "4     1.221124e+11      1.221124e+11    65417900.0   68705400.0   \n",
            "\n",
            "   delisting_date  non_regular_volume  non_regular_value  \\\n",
            "0             NaN           2160852.0       9.629730e+09   \n",
            "1             NaN          14816503.0       6.601430e+10   \n",
            "2             NaN          56365669.0       2.527370e+11   \n",
            "3             NaN          21887927.0       9.768039e+10   \n",
            "4             NaN          16419027.0       7.282188e+10   \n",
            "\n",
            "   non_regular_frequency  \n",
            "0                    9.0  \n",
            "1                   21.0  \n",
            "2                   22.0  \n",
            "3                   15.0  \n",
            "4                   13.0  \n",
            "\n",
            "[5 rows x 25 columns]\n"
          ]
        }
      ],
      "source": [
        "# URL GitHub untuk file CSV mentah\n",
        "url = \"https://raw.githubusercontent.com/wildangunawan/Dataset-Saham-IDX/master/Saham/LQ45/BBRI.csv\"\n",
        "# Membaca dataset\n",
        "df = pd.read_csv(url)\n",
        "# Menampilkan 5 baris pertama\n",
        "print(df.head())"
      ]
    },
    {
      "cell_type": "code",
      "execution_count": 3,
      "metadata": {
        "colab": {
          "base_uri": "https://localhost:8080/"
        },
        "id": "Ys4GfKRIWxNs",
        "outputId": "f47f6c05-d5a3-49d8-92d9-f4e282cc059b"
      },
      "outputs": [
        {
          "name": "stdout",
          "output_type": "stream",
          "text": [
            "<class 'pandas.core.frame.DataFrame'>\n",
            "RangeIndex: 1355 entries, 0 to 1354\n",
            "Data columns (total 25 columns):\n",
            " #   Column                 Non-Null Count  Dtype  \n",
            "---  ------                 --------------  -----  \n",
            " 0   date                   1355 non-null   object \n",
            " 1   previous               1355 non-null   float64\n",
            " 2   open_price             1355 non-null   float64\n",
            " 3   first_trade            1355 non-null   float64\n",
            " 4   high                   1355 non-null   float64\n",
            " 5   low                    1355 non-null   float64\n",
            " 6   close                  1355 non-null   float64\n",
            " 7   change                 1355 non-null   float64\n",
            " 8   volume                 1355 non-null   float64\n",
            " 9   value                  1355 non-null   float64\n",
            " 10  frequency              1355 non-null   float64\n",
            " 11  index_individual       1355 non-null   float64\n",
            " 12  offer                  1355 non-null   float64\n",
            " 13  offer_volume           1355 non-null   float64\n",
            " 14  bid                    1355 non-null   float64\n",
            " 15  bid_volume             1355 non-null   float64\n",
            " 16  listed_shares          1355 non-null   float64\n",
            " 17  tradeble_shares        1355 non-null   float64\n",
            " 18  weight_for_index       1355 non-null   float64\n",
            " 19  foreign_sell           1355 non-null   float64\n",
            " 20  foreign_buy            1355 non-null   float64\n",
            " 21  delisting_date         0 non-null      float64\n",
            " 22  non_regular_volume     1355 non-null   float64\n",
            " 23  non_regular_value      1355 non-null   float64\n",
            " 24  non_regular_frequency  1355 non-null   float64\n",
            "dtypes: float64(24), object(1)\n",
            "memory usage: 264.8+ KB\n"
          ]
        }
      ],
      "source": [
        "df.info()  #menampilkan informasi data frame"
      ]
    },
    {
      "cell_type": "markdown",
      "metadata": {
        "id": "YhdzrN50etYQ"
      },
      "source": [
        "Output dari df.info() menunjukkan bahwa DataFrame terdiri dari 1355 baris dan 25 kolom, yang sebagian besar berisi data bertipe float64 dan satu kolom bertipe object yaitu kolom date. Semua kolom kecuali delisting_date memiliki nilai non-null sebanyak 1355, artinya tidak ada nilai yang hilang di kolom-kolom tersebut. Namun, kolom delisting_date tidak memiliki satu pun nilai yang valid (0 non-null), sehingga kemungkinan besar kolom ini bisa dihapus karena tidak mengandung informasi yang berguna. Secara keseluruhan, informasi ini membantu dalam memahami struktur data, tipe data tiap kolom, dan apakah ada data yang hilang sebelum proses pembersihan atau analisis lebih lanjut."
      ]
    },
    {
      "cell_type": "code",
      "execution_count": 4,
      "metadata": {
        "colab": {
          "base_uri": "https://localhost:8080/",
          "height": 350
        },
        "id": "lRsSTC_wbYN3",
        "outputId": "c154ddeb-12ad-4523-d689-e234e1620ddf"
      },
      "outputs": [
        {
          "data": {
            "application/vnd.google.colaboratory.intrinsic+json": {
              "type": "dataframe"
            },
            "text/html": [
              "\n",
              "  <div id=\"df-367b0c47-126d-4da7-8d96-124c32478b40\" class=\"colab-df-container\">\n",
              "    <div>\n",
              "<style scoped>\n",
              "    .dataframe tbody tr th:only-of-type {\n",
              "        vertical-align: middle;\n",
              "    }\n",
              "\n",
              "    .dataframe tbody tr th {\n",
              "        vertical-align: top;\n",
              "    }\n",
              "\n",
              "    .dataframe thead th {\n",
              "        text-align: right;\n",
              "    }\n",
              "</style>\n",
              "<table border=\"1\" class=\"dataframe\">\n",
              "  <thead>\n",
              "    <tr style=\"text-align: right;\">\n",
              "      <th></th>\n",
              "      <th>previous</th>\n",
              "      <th>open_price</th>\n",
              "      <th>first_trade</th>\n",
              "      <th>high</th>\n",
              "      <th>low</th>\n",
              "      <th>close</th>\n",
              "      <th>change</th>\n",
              "      <th>volume</th>\n",
              "      <th>value</th>\n",
              "      <th>frequency</th>\n",
              "      <th>...</th>\n",
              "      <th>bid_volume</th>\n",
              "      <th>listed_shares</th>\n",
              "      <th>tradeble_shares</th>\n",
              "      <th>weight_for_index</th>\n",
              "      <th>foreign_sell</th>\n",
              "      <th>foreign_buy</th>\n",
              "      <th>delisting_date</th>\n",
              "      <th>non_regular_volume</th>\n",
              "      <th>non_regular_value</th>\n",
              "      <th>non_regular_frequency</th>\n",
              "    </tr>\n",
              "  </thead>\n",
              "  <tbody>\n",
              "    <tr>\n",
              "      <th>count</th>\n",
              "      <td>1355.000000</td>\n",
              "      <td>1355.000000</td>\n",
              "      <td>1355.000000</td>\n",
              "      <td>1355.000000</td>\n",
              "      <td>1355.000000</td>\n",
              "      <td>1355.000000</td>\n",
              "      <td>1355.000000</td>\n",
              "      <td>1.355000e+03</td>\n",
              "      <td>1.355000e+03</td>\n",
              "      <td>1355.000000</td>\n",
              "      <td>...</td>\n",
              "      <td>1.355000e+03</td>\n",
              "      <td>1.355000e+03</td>\n",
              "      <td>1.355000e+03</td>\n",
              "      <td>1.355000e+03</td>\n",
              "      <td>1.355000e+03</td>\n",
              "      <td>1.355000e+03</td>\n",
              "      <td>0.0</td>\n",
              "      <td>1.355000e+03</td>\n",
              "      <td>1.355000e+03</td>\n",
              "      <td>1355.000000</td>\n",
              "    </tr>\n",
              "    <tr>\n",
              "      <th>mean</th>\n",
              "      <td>4446.863469</td>\n",
              "      <td>4197.619926</td>\n",
              "      <td>4199.036900</td>\n",
              "      <td>4501.376384</td>\n",
              "      <td>4398.789668</td>\n",
              "      <td>4446.730627</td>\n",
              "      <td>-0.132841</td>\n",
              "      <td>1.732390e+08</td>\n",
              "      <td>7.558775e+11</td>\n",
              "      <td>24323.907011</td>\n",
              "      <td>...</td>\n",
              "      <td>3.107525e+06</td>\n",
              "      <td>1.392136e+11</td>\n",
              "      <td>1.392136e+11</td>\n",
              "      <td>8.467646e+10</td>\n",
              "      <td>9.232452e+07</td>\n",
              "      <td>8.804041e+07</td>\n",
              "      <td>NaN</td>\n",
              "      <td>2.181647e+07</td>\n",
              "      <td>9.628963e+10</td>\n",
              "      <td>51.078229</td>\n",
              "    </tr>\n",
              "    <tr>\n",
              "      <th>std</th>\n",
              "      <td>730.203842</td>\n",
              "      <td>1397.230485</td>\n",
              "      <td>1397.867472</td>\n",
              "      <td>725.655390</td>\n",
              "      <td>730.864361</td>\n",
              "      <td>730.186065</td>\n",
              "      <td>84.350311</td>\n",
              "      <td>1.079762e+08</td>\n",
              "      <td>4.636233e+11</td>\n",
              "      <td>17734.759515</td>\n",
              "      <td>...</td>\n",
              "      <td>5.569827e+06</td>\n",
              "      <td>1.358214e+10</td>\n",
              "      <td>1.358214e+10</td>\n",
              "      <td>3.545319e+10</td>\n",
              "      <td>6.902185e+07</td>\n",
              "      <td>6.213455e+07</td>\n",
              "      <td>NaN</td>\n",
              "      <td>2.648973e+07</td>\n",
              "      <td>1.159372e+11</td>\n",
              "      <td>72.027730</td>\n",
              "    </tr>\n",
              "    <tr>\n",
              "      <th>min</th>\n",
              "      <td>2170.000000</td>\n",
              "      <td>0.000000</td>\n",
              "      <td>0.000000</td>\n",
              "      <td>2270.000000</td>\n",
              "      <td>2160.000000</td>\n",
              "      <td>2170.000000</td>\n",
              "      <td>-350.000000</td>\n",
              "      <td>6.819800e+06</td>\n",
              "      <td>2.815051e+10</td>\n",
              "      <td>467.000000</td>\n",
              "      <td>...</td>\n",
              "      <td>0.000000e+00</td>\n",
              "      <td>1.221124e+11</td>\n",
              "      <td>1.221124e+11</td>\n",
              "      <td>4.173695e+10</td>\n",
              "      <td>1.200000e+03</td>\n",
              "      <td>1.775000e+06</td>\n",
              "      <td>NaN</td>\n",
              "      <td>3.580000e+02</td>\n",
              "      <td>1.480550e+06</td>\n",
              "      <td>2.000000</td>\n",
              "    </tr>\n",
              "    <tr>\n",
              "      <th>25%</th>\n",
              "      <td>4100.000000</td>\n",
              "      <td>4105.000000</td>\n",
              "      <td>4110.000000</td>\n",
              "      <td>4160.000000</td>\n",
              "      <td>4060.000000</td>\n",
              "      <td>4100.000000</td>\n",
              "      <td>-50.000000</td>\n",
              "      <td>1.023866e+08</td>\n",
              "      <td>4.524782e+11</td>\n",
              "      <td>13057.000000</td>\n",
              "      <td>...</td>\n",
              "      <td>2.429000e+05</td>\n",
              "      <td>1.221124e+11</td>\n",
              "      <td>1.221124e+11</td>\n",
              "      <td>4.790895e+10</td>\n",
              "      <td>5.017900e+07</td>\n",
              "      <td>4.880285e+07</td>\n",
              "      <td>NaN</td>\n",
              "      <td>5.366334e+06</td>\n",
              "      <td>2.193448e+10</td>\n",
              "      <td>15.000000</td>\n",
              "    </tr>\n",
              "    <tr>\n",
              "      <th>50%</th>\n",
              "      <td>4410.000000</td>\n",
              "      <td>4420.000000</td>\n",
              "      <td>4420.000000</td>\n",
              "      <td>4470.000000</td>\n",
              "      <td>4370.000000</td>\n",
              "      <td>4410.000000</td>\n",
              "      <td>0.000000</td>\n",
              "      <td>1.414913e+08</td>\n",
              "      <td>6.348975e+11</td>\n",
              "      <td>18609.000000</td>\n",
              "      <td>...</td>\n",
              "      <td>1.134300e+06</td>\n",
              "      <td>1.500434e+11</td>\n",
              "      <td>1.500434e+11</td>\n",
              "      <td>6.202973e+10</td>\n",
              "      <td>7.371290e+07</td>\n",
              "      <td>7.148940e+07</td>\n",
              "      <td>NaN</td>\n",
              "      <td>1.333502e+07</td>\n",
              "      <td>5.914452e+10</td>\n",
              "      <td>26.000000</td>\n",
              "    </tr>\n",
              "    <tr>\n",
              "      <th>75%</th>\n",
              "      <td>4840.000000</td>\n",
              "      <td>4850.000000</td>\n",
              "      <td>4845.000000</td>\n",
              "      <td>4880.000000</td>\n",
              "      <td>4800.000000</td>\n",
              "      <td>4840.000000</td>\n",
              "      <td>50.000000</td>\n",
              "      <td>2.062180e+08</td>\n",
              "      <td>9.317141e+11</td>\n",
              "      <td>29673.000000</td>\n",
              "      <td>...</td>\n",
              "      <td>3.741250e+06</td>\n",
              "      <td>1.500434e+11</td>\n",
              "      <td>1.500434e+11</td>\n",
              "      <td>1.221124e+11</td>\n",
              "      <td>1.072647e+08</td>\n",
              "      <td>1.089136e+08</td>\n",
              "      <td>NaN</td>\n",
              "      <td>2.696243e+07</td>\n",
              "      <td>1.194581e+11</td>\n",
              "      <td>60.500000</td>\n",
              "    </tr>\n",
              "    <tr>\n",
              "      <th>max</th>\n",
              "      <td>6400.000000</td>\n",
              "      <td>6350.000000</td>\n",
              "      <td>6350.000000</td>\n",
              "      <td>6450.000000</td>\n",
              "      <td>6350.000000</td>\n",
              "      <td>6400.000000</td>\n",
              "      <td>500.000000</td>\n",
              "      <td>8.726073e+08</td>\n",
              "      <td>4.367967e+12</td>\n",
              "      <td>192580.000000</td>\n",
              "      <td>...</td>\n",
              "      <td>9.703410e+07</td>\n",
              "      <td>1.503255e+11</td>\n",
              "      <td>1.503255e+11</td>\n",
              "      <td>1.502139e+11</td>\n",
              "      <td>6.513037e+08</td>\n",
              "      <td>6.685863e+08</td>\n",
              "      <td>NaN</td>\n",
              "      <td>2.409136e+08</td>\n",
              "      <td>1.234244e+12</td>\n",
              "      <td>696.000000</td>\n",
              "    </tr>\n",
              "  </tbody>\n",
              "</table>\n",
              "<p>8 rows × 24 columns</p>\n",
              "</div>\n",
              "    <div class=\"colab-df-buttons\">\n",
              "\n",
              "  <div class=\"colab-df-container\">\n",
              "    <button class=\"colab-df-convert\" onclick=\"convertToInteractive('df-367b0c47-126d-4da7-8d96-124c32478b40')\"\n",
              "            title=\"Convert this dataframe to an interactive table.\"\n",
              "            style=\"display:none;\">\n",
              "\n",
              "  <svg xmlns=\"http://www.w3.org/2000/svg\" height=\"24px\" viewBox=\"0 -960 960 960\">\n",
              "    <path d=\"M120-120v-720h720v720H120Zm60-500h600v-160H180v160Zm220 220h160v-160H400v160Zm0 220h160v-160H400v160ZM180-400h160v-160H180v160Zm440 0h160v-160H620v160ZM180-180h160v-160H180v160Zm440 0h160v-160H620v160Z\"/>\n",
              "  </svg>\n",
              "    </button>\n",
              "\n",
              "  <style>\n",
              "    .colab-df-container {\n",
              "      display:flex;\n",
              "      gap: 12px;\n",
              "    }\n",
              "\n",
              "    .colab-df-convert {\n",
              "      background-color: #E8F0FE;\n",
              "      border: none;\n",
              "      border-radius: 50%;\n",
              "      cursor: pointer;\n",
              "      display: none;\n",
              "      fill: #1967D2;\n",
              "      height: 32px;\n",
              "      padding: 0 0 0 0;\n",
              "      width: 32px;\n",
              "    }\n",
              "\n",
              "    .colab-df-convert:hover {\n",
              "      background-color: #E2EBFA;\n",
              "      box-shadow: 0px 1px 2px rgba(60, 64, 67, 0.3), 0px 1px 3px 1px rgba(60, 64, 67, 0.15);\n",
              "      fill: #174EA6;\n",
              "    }\n",
              "\n",
              "    .colab-df-buttons div {\n",
              "      margin-bottom: 4px;\n",
              "    }\n",
              "\n",
              "    [theme=dark] .colab-df-convert {\n",
              "      background-color: #3B4455;\n",
              "      fill: #D2E3FC;\n",
              "    }\n",
              "\n",
              "    [theme=dark] .colab-df-convert:hover {\n",
              "      background-color: #434B5C;\n",
              "      box-shadow: 0px 1px 3px 1px rgba(0, 0, 0, 0.15);\n",
              "      filter: drop-shadow(0px 1px 2px rgba(0, 0, 0, 0.3));\n",
              "      fill: #FFFFFF;\n",
              "    }\n",
              "  </style>\n",
              "\n",
              "    <script>\n",
              "      const buttonEl =\n",
              "        document.querySelector('#df-367b0c47-126d-4da7-8d96-124c32478b40 button.colab-df-convert');\n",
              "      buttonEl.style.display =\n",
              "        google.colab.kernel.accessAllowed ? 'block' : 'none';\n",
              "\n",
              "      async function convertToInteractive(key) {\n",
              "        const element = document.querySelector('#df-367b0c47-126d-4da7-8d96-124c32478b40');\n",
              "        const dataTable =\n",
              "          await google.colab.kernel.invokeFunction('convertToInteractive',\n",
              "                                                    [key], {});\n",
              "        if (!dataTable) return;\n",
              "\n",
              "        const docLinkHtml = 'Like what you see? Visit the ' +\n",
              "          '<a target=\"_blank\" href=https://colab.research.google.com/notebooks/data_table.ipynb>data table notebook</a>'\n",
              "          + ' to learn more about interactive tables.';\n",
              "        element.innerHTML = '';\n",
              "        dataTable['output_type'] = 'display_data';\n",
              "        await google.colab.output.renderOutput(dataTable, element);\n",
              "        const docLink = document.createElement('div');\n",
              "        docLink.innerHTML = docLinkHtml;\n",
              "        element.appendChild(docLink);\n",
              "      }\n",
              "    </script>\n",
              "  </div>\n",
              "\n",
              "\n",
              "<div id=\"df-3c3f31d0-c371-415c-806c-fe9f8417c927\">\n",
              "  <button class=\"colab-df-quickchart\" onclick=\"quickchart('df-3c3f31d0-c371-415c-806c-fe9f8417c927')\"\n",
              "            title=\"Suggest charts\"\n",
              "            style=\"display:none;\">\n",
              "\n",
              "<svg xmlns=\"http://www.w3.org/2000/svg\" height=\"24px\"viewBox=\"0 0 24 24\"\n",
              "     width=\"24px\">\n",
              "    <g>\n",
              "        <path d=\"M19 3H5c-1.1 0-2 .9-2 2v14c0 1.1.9 2 2 2h14c1.1 0 2-.9 2-2V5c0-1.1-.9-2-2-2zM9 17H7v-7h2v7zm4 0h-2V7h2v10zm4 0h-2v-4h2v4z\"/>\n",
              "    </g>\n",
              "</svg>\n",
              "  </button>\n",
              "\n",
              "<style>\n",
              "  .colab-df-quickchart {\n",
              "      --bg-color: #E8F0FE;\n",
              "      --fill-color: #1967D2;\n",
              "      --hover-bg-color: #E2EBFA;\n",
              "      --hover-fill-color: #174EA6;\n",
              "      --disabled-fill-color: #AAA;\n",
              "      --disabled-bg-color: #DDD;\n",
              "  }\n",
              "\n",
              "  [theme=dark] .colab-df-quickchart {\n",
              "      --bg-color: #3B4455;\n",
              "      --fill-color: #D2E3FC;\n",
              "      --hover-bg-color: #434B5C;\n",
              "      --hover-fill-color: #FFFFFF;\n",
              "      --disabled-bg-color: #3B4455;\n",
              "      --disabled-fill-color: #666;\n",
              "  }\n",
              "\n",
              "  .colab-df-quickchart {\n",
              "    background-color: var(--bg-color);\n",
              "    border: none;\n",
              "    border-radius: 50%;\n",
              "    cursor: pointer;\n",
              "    display: none;\n",
              "    fill: var(--fill-color);\n",
              "    height: 32px;\n",
              "    padding: 0;\n",
              "    width: 32px;\n",
              "  }\n",
              "\n",
              "  .colab-df-quickchart:hover {\n",
              "    background-color: var(--hover-bg-color);\n",
              "    box-shadow: 0 1px 2px rgba(60, 64, 67, 0.3), 0 1px 3px 1px rgba(60, 64, 67, 0.15);\n",
              "    fill: var(--button-hover-fill-color);\n",
              "  }\n",
              "\n",
              "  .colab-df-quickchart-complete:disabled,\n",
              "  .colab-df-quickchart-complete:disabled:hover {\n",
              "    background-color: var(--disabled-bg-color);\n",
              "    fill: var(--disabled-fill-color);\n",
              "    box-shadow: none;\n",
              "  }\n",
              "\n",
              "  .colab-df-spinner {\n",
              "    border: 2px solid var(--fill-color);\n",
              "    border-color: transparent;\n",
              "    border-bottom-color: var(--fill-color);\n",
              "    animation:\n",
              "      spin 1s steps(1) infinite;\n",
              "  }\n",
              "\n",
              "  @keyframes spin {\n",
              "    0% {\n",
              "      border-color: transparent;\n",
              "      border-bottom-color: var(--fill-color);\n",
              "      border-left-color: var(--fill-color);\n",
              "    }\n",
              "    20% {\n",
              "      border-color: transparent;\n",
              "      border-left-color: var(--fill-color);\n",
              "      border-top-color: var(--fill-color);\n",
              "    }\n",
              "    30% {\n",
              "      border-color: transparent;\n",
              "      border-left-color: var(--fill-color);\n",
              "      border-top-color: var(--fill-color);\n",
              "      border-right-color: var(--fill-color);\n",
              "    }\n",
              "    40% {\n",
              "      border-color: transparent;\n",
              "      border-right-color: var(--fill-color);\n",
              "      border-top-color: var(--fill-color);\n",
              "    }\n",
              "    60% {\n",
              "      border-color: transparent;\n",
              "      border-right-color: var(--fill-color);\n",
              "    }\n",
              "    80% {\n",
              "      border-color: transparent;\n",
              "      border-right-color: var(--fill-color);\n",
              "      border-bottom-color: var(--fill-color);\n",
              "    }\n",
              "    90% {\n",
              "      border-color: transparent;\n",
              "      border-bottom-color: var(--fill-color);\n",
              "    }\n",
              "  }\n",
              "</style>\n",
              "\n",
              "  <script>\n",
              "    async function quickchart(key) {\n",
              "      const quickchartButtonEl =\n",
              "        document.querySelector('#' + key + ' button');\n",
              "      quickchartButtonEl.disabled = true;  // To prevent multiple clicks.\n",
              "      quickchartButtonEl.classList.add('colab-df-spinner');\n",
              "      try {\n",
              "        const charts = await google.colab.kernel.invokeFunction(\n",
              "            'suggestCharts', [key], {});\n",
              "      } catch (error) {\n",
              "        console.error('Error during call to suggestCharts:', error);\n",
              "      }\n",
              "      quickchartButtonEl.classList.remove('colab-df-spinner');\n",
              "      quickchartButtonEl.classList.add('colab-df-quickchart-complete');\n",
              "    }\n",
              "    (() => {\n",
              "      let quickchartButtonEl =\n",
              "        document.querySelector('#df-3c3f31d0-c371-415c-806c-fe9f8417c927 button');\n",
              "      quickchartButtonEl.style.display =\n",
              "        google.colab.kernel.accessAllowed ? 'block' : 'none';\n",
              "    })();\n",
              "  </script>\n",
              "</div>\n",
              "\n",
              "    </div>\n",
              "  </div>\n"
            ],
            "text/plain": [
              "          previous   open_price  first_trade         high          low  \\\n",
              "count  1355.000000  1355.000000  1355.000000  1355.000000  1355.000000   \n",
              "mean   4446.863469  4197.619926  4199.036900  4501.376384  4398.789668   \n",
              "std     730.203842  1397.230485  1397.867472   725.655390   730.864361   \n",
              "min    2170.000000     0.000000     0.000000  2270.000000  2160.000000   \n",
              "25%    4100.000000  4105.000000  4110.000000  4160.000000  4060.000000   \n",
              "50%    4410.000000  4420.000000  4420.000000  4470.000000  4370.000000   \n",
              "75%    4840.000000  4850.000000  4845.000000  4880.000000  4800.000000   \n",
              "max    6400.000000  6350.000000  6350.000000  6450.000000  6350.000000   \n",
              "\n",
              "             close       change        volume         value      frequency  \\\n",
              "count  1355.000000  1355.000000  1.355000e+03  1.355000e+03    1355.000000   \n",
              "mean   4446.730627    -0.132841  1.732390e+08  7.558775e+11   24323.907011   \n",
              "std     730.186065    84.350311  1.079762e+08  4.636233e+11   17734.759515   \n",
              "min    2170.000000  -350.000000  6.819800e+06  2.815051e+10     467.000000   \n",
              "25%    4100.000000   -50.000000  1.023866e+08  4.524782e+11   13057.000000   \n",
              "50%    4410.000000     0.000000  1.414913e+08  6.348975e+11   18609.000000   \n",
              "75%    4840.000000    50.000000  2.062180e+08  9.317141e+11   29673.000000   \n",
              "max    6400.000000   500.000000  8.726073e+08  4.367967e+12  192580.000000   \n",
              "\n",
              "       ...    bid_volume  listed_shares  tradeble_shares  weight_for_index  \\\n",
              "count  ...  1.355000e+03   1.355000e+03     1.355000e+03      1.355000e+03   \n",
              "mean   ...  3.107525e+06   1.392136e+11     1.392136e+11      8.467646e+10   \n",
              "std    ...  5.569827e+06   1.358214e+10     1.358214e+10      3.545319e+10   \n",
              "min    ...  0.000000e+00   1.221124e+11     1.221124e+11      4.173695e+10   \n",
              "25%    ...  2.429000e+05   1.221124e+11     1.221124e+11      4.790895e+10   \n",
              "50%    ...  1.134300e+06   1.500434e+11     1.500434e+11      6.202973e+10   \n",
              "75%    ...  3.741250e+06   1.500434e+11     1.500434e+11      1.221124e+11   \n",
              "max    ...  9.703410e+07   1.503255e+11     1.503255e+11      1.502139e+11   \n",
              "\n",
              "       foreign_sell   foreign_buy  delisting_date  non_regular_volume  \\\n",
              "count  1.355000e+03  1.355000e+03             0.0        1.355000e+03   \n",
              "mean   9.232452e+07  8.804041e+07             NaN        2.181647e+07   \n",
              "std    6.902185e+07  6.213455e+07             NaN        2.648973e+07   \n",
              "min    1.200000e+03  1.775000e+06             NaN        3.580000e+02   \n",
              "25%    5.017900e+07  4.880285e+07             NaN        5.366334e+06   \n",
              "50%    7.371290e+07  7.148940e+07             NaN        1.333502e+07   \n",
              "75%    1.072647e+08  1.089136e+08             NaN        2.696243e+07   \n",
              "max    6.513037e+08  6.685863e+08             NaN        2.409136e+08   \n",
              "\n",
              "       non_regular_value  non_regular_frequency  \n",
              "count       1.355000e+03            1355.000000  \n",
              "mean        9.628963e+10              51.078229  \n",
              "std         1.159372e+11              72.027730  \n",
              "min         1.480550e+06               2.000000  \n",
              "25%         2.193448e+10              15.000000  \n",
              "50%         5.914452e+10              26.000000  \n",
              "75%         1.194581e+11              60.500000  \n",
              "max         1.234244e+12             696.000000  \n",
              "\n",
              "[8 rows x 24 columns]"
            ]
          },
          "execution_count": 4,
          "metadata": {},
          "output_type": "execute_result"
        }
      ],
      "source": [
        "df.describe() # menghasilkan statistik deskriptif ringkas dari DataFrame"
      ]
    },
    {
      "cell_type": "markdown",
      "metadata": {
        "id": "ESqj6qMbe5Kj"
      },
      "source": [
        "Perintah df.describe() digunakan untuk menghasilkan statistik deskriptif ringkas dari DataFrame, yang mencakup metrik-metrik penting seperti jumlah data (count), nilai rata-rata (mean), standar deviasi (std), nilai minimum (min), nilai kuartil pertama (25%), median (50%), kuartil ketiga (75%), dan nilai maksimum (max) untuk setiap kolom numerik. Statistik ini berguna untuk memahami distribusi, sebaran, serta kecenderungan data secara umum, sehingga dapat membantu dalam proses eksplorasi data, deteksi outlier, dan pengambilan keputusan terkait preprocessing atau pemodelan data."
      ]
    },
    {
      "cell_type": "code",
      "execution_count": 5,
      "metadata": {
        "colab": {
          "base_uri": "https://localhost:8080/",
          "height": 868
        },
        "id": "vzMKZeQbbeyj",
        "outputId": "f25bb01e-a2ac-4d72-b73c-42bbf6083034"
      },
      "outputs": [
        {
          "data": {
            "text/html": [
              "<div>\n",
              "<style scoped>\n",
              "    .dataframe tbody tr th:only-of-type {\n",
              "        vertical-align: middle;\n",
              "    }\n",
              "\n",
              "    .dataframe tbody tr th {\n",
              "        vertical-align: top;\n",
              "    }\n",
              "\n",
              "    .dataframe thead th {\n",
              "        text-align: right;\n",
              "    }\n",
              "</style>\n",
              "<table border=\"1\" class=\"dataframe\">\n",
              "  <thead>\n",
              "    <tr style=\"text-align: right;\">\n",
              "      <th></th>\n",
              "      <th>0</th>\n",
              "    </tr>\n",
              "  </thead>\n",
              "  <tbody>\n",
              "    <tr>\n",
              "      <th>date</th>\n",
              "      <td>0</td>\n",
              "    </tr>\n",
              "    <tr>\n",
              "      <th>previous</th>\n",
              "      <td>0</td>\n",
              "    </tr>\n",
              "    <tr>\n",
              "      <th>open_price</th>\n",
              "      <td>0</td>\n",
              "    </tr>\n",
              "    <tr>\n",
              "      <th>first_trade</th>\n",
              "      <td>0</td>\n",
              "    </tr>\n",
              "    <tr>\n",
              "      <th>high</th>\n",
              "      <td>0</td>\n",
              "    </tr>\n",
              "    <tr>\n",
              "      <th>low</th>\n",
              "      <td>0</td>\n",
              "    </tr>\n",
              "    <tr>\n",
              "      <th>close</th>\n",
              "      <td>0</td>\n",
              "    </tr>\n",
              "    <tr>\n",
              "      <th>change</th>\n",
              "      <td>0</td>\n",
              "    </tr>\n",
              "    <tr>\n",
              "      <th>volume</th>\n",
              "      <td>0</td>\n",
              "    </tr>\n",
              "    <tr>\n",
              "      <th>value</th>\n",
              "      <td>0</td>\n",
              "    </tr>\n",
              "    <tr>\n",
              "      <th>frequency</th>\n",
              "      <td>0</td>\n",
              "    </tr>\n",
              "    <tr>\n",
              "      <th>index_individual</th>\n",
              "      <td>0</td>\n",
              "    </tr>\n",
              "    <tr>\n",
              "      <th>offer</th>\n",
              "      <td>0</td>\n",
              "    </tr>\n",
              "    <tr>\n",
              "      <th>offer_volume</th>\n",
              "      <td>0</td>\n",
              "    </tr>\n",
              "    <tr>\n",
              "      <th>bid</th>\n",
              "      <td>0</td>\n",
              "    </tr>\n",
              "    <tr>\n",
              "      <th>bid_volume</th>\n",
              "      <td>0</td>\n",
              "    </tr>\n",
              "    <tr>\n",
              "      <th>listed_shares</th>\n",
              "      <td>0</td>\n",
              "    </tr>\n",
              "    <tr>\n",
              "      <th>tradeble_shares</th>\n",
              "      <td>0</td>\n",
              "    </tr>\n",
              "    <tr>\n",
              "      <th>weight_for_index</th>\n",
              "      <td>0</td>\n",
              "    </tr>\n",
              "    <tr>\n",
              "      <th>foreign_sell</th>\n",
              "      <td>0</td>\n",
              "    </tr>\n",
              "    <tr>\n",
              "      <th>foreign_buy</th>\n",
              "      <td>0</td>\n",
              "    </tr>\n",
              "    <tr>\n",
              "      <th>delisting_date</th>\n",
              "      <td>1355</td>\n",
              "    </tr>\n",
              "    <tr>\n",
              "      <th>non_regular_volume</th>\n",
              "      <td>0</td>\n",
              "    </tr>\n",
              "    <tr>\n",
              "      <th>non_regular_value</th>\n",
              "      <td>0</td>\n",
              "    </tr>\n",
              "    <tr>\n",
              "      <th>non_regular_frequency</th>\n",
              "      <td>0</td>\n",
              "    </tr>\n",
              "  </tbody>\n",
              "</table>\n",
              "</div><br><label><b>dtype:</b> int64</label>"
            ],
            "text/plain": [
              "date                        0\n",
              "previous                    0\n",
              "open_price                  0\n",
              "first_trade                 0\n",
              "high                        0\n",
              "low                         0\n",
              "close                       0\n",
              "change                      0\n",
              "volume                      0\n",
              "value                       0\n",
              "frequency                   0\n",
              "index_individual            0\n",
              "offer                       0\n",
              "offer_volume                0\n",
              "bid                         0\n",
              "bid_volume                  0\n",
              "listed_shares               0\n",
              "tradeble_shares             0\n",
              "weight_for_index            0\n",
              "foreign_sell                0\n",
              "foreign_buy                 0\n",
              "delisting_date           1355\n",
              "non_regular_volume          0\n",
              "non_regular_value           0\n",
              "non_regular_frequency       0\n",
              "dtype: int64"
            ]
          },
          "execution_count": 5,
          "metadata": {},
          "output_type": "execute_result"
        }
      ],
      "source": [
        "df.isnull().sum()"
      ]
    },
    {
      "cell_type": "markdown",
      "metadata": {
        "id": "OTk-5sbcfAng"
      },
      "source": [
        "Perintah df.isnull().sum() digunakan untuk menghitung jumlah nilai yang hilang (null) di setiap kolom dalam DataFrame. Hasilnya akan menunjukkan berapa banyak data yang kosong pada masing-masing kolom, sehingga memudahkan kita dalam mengidentifikasi dan menangani data yang tidak lengkap, dalam konteks ini delisting_date memiliki 1355 kolom yang kosong atau null\n",
        "\n",
        "\n",
        "\n",
        "\n",
        "\n",
        "\n",
        "\n",
        "\n"
      ]
    },
    {
      "cell_type": "markdown",
      "metadata": {
        "id": "bFgLyQPHX98s"
      },
      "source": [
        "### Data Preprocessing"
      ]
    },
    {
      "cell_type": "markdown",
      "metadata": {
        "id": "lGCJQfzVb5CT"
      },
      "source": [
        "### Menghapus Kolom yang tidak diperlukan atau memiliki nilai NULL"
      ]
    },
    {
      "cell_type": "markdown",
      "metadata": {
        "id": "avHRUJkue78x"
      },
      "source": [
        "Dalam prediksi harga saham harian, hanya kolom yang secara langsung mencerminkan aktivitas pasar dan pergerakan harga yang dipertahankan, seperti date, open_price, high, low, close, volume, value, frequency, foreign_sell, dan foreign_buy, karena informasi ini relevan untuk analisis tren, volatilitas, dan sentimen pasar. Sementara itu, kolom seperti previous, first_trade, offer, bid, listed_shares, hingga non_regular_* dihapus karena bersifat redundan, statis, tidak relevan untuk prediksi jangka pendek, atau bahkan mengandung banyak nilai kosong sehingga tidak memberikan kontribusi signifikan pada model."
      ]
    },
    {
      "cell_type": "code",
      "execution_count": 6,
      "metadata": {
        "colab": {
          "base_uri": "https://localhost:8080/"
        },
        "id": "8HJokQbxX98s",
        "outputId": "2a74e8ac-631b-441f-d071-986b1f81a3c1"
      },
      "outputs": [
        {
          "name": "stdout",
          "output_type": "stream",
          "text": [
            "\n",
            "Kolom setelah dibersihkan:\n",
            " ['date', 'previous', 'open_price', 'first_trade', 'high', 'low', 'close', 'volume', 'value', 'frequency', 'foreign_sell', 'foreign_buy']\n",
            "\n",
            "Info dataframe setelah dibersihkan:\n",
            "<class 'pandas.core.frame.DataFrame'>\n",
            "RangeIndex: 1355 entries, 0 to 1354\n",
            "Data columns (total 12 columns):\n",
            " #   Column        Non-Null Count  Dtype  \n",
            "---  ------        --------------  -----  \n",
            " 0   date          1355 non-null   object \n",
            " 1   previous      1355 non-null   float64\n",
            " 2   open_price    1355 non-null   float64\n",
            " 3   first_trade   1355 non-null   float64\n",
            " 4   high          1355 non-null   float64\n",
            " 5   low           1355 non-null   float64\n",
            " 6   close         1355 non-null   float64\n",
            " 7   volume        1355 non-null   float64\n",
            " 8   value         1355 non-null   float64\n",
            " 9   frequency     1355 non-null   float64\n",
            " 10  foreign_sell  1355 non-null   float64\n",
            " 11  foreign_buy   1355 non-null   float64\n",
            "dtypes: float64(11), object(1)\n",
            "memory usage: 127.2+ KB\n"
          ]
        }
      ],
      "source": [
        "# Drop kolom yang tidak diperlukan\n",
        "cols_to_drop = [\n",
        "    'change',                # fitur turunan dari previous & close\n",
        "    'index_individual',\n",
        "    'offer', 'offer_volume',\n",
        "    'bid', 'bid_volume',\n",
        "    'listed_shares', 'tradeble_shares',\n",
        "    'weight_for_index',\n",
        "    'delisting_date',        # semuanya null\n",
        "    'non_regular_volume', 'non_regular_value', 'non_regular_frequency'\n",
        "]\n",
        "\n",
        "df_cleaned = df.drop(columns=cols_to_drop)\n",
        "\n",
        "# Tampilkan kolom setelah dibersihkan\n",
        "print(\"\\nKolom setelah dibersihkan:\\n\", df_cleaned.columns.tolist())\n",
        "\n",
        "# Cek info ringkas setelah pembersihan\n",
        "print(\"\\nInfo dataframe setelah dibersihkan:\")\n",
        "df_cleaned.info()"
      ]
    },
    {
      "cell_type": "markdown",
      "metadata": {
        "id": "GtRKgZ5lgPeA"
      },
      "source": [
        "###Memastikan data ke format datetime dan diurutkan berdasarkan waktu."
      ]
    },
    {
      "cell_type": "markdown",
      "metadata": {
        "id": "rzkJMtu3fgR-"
      },
      "source": [
        "kolom 'date' dikonversi ke format datetime agar dapat dikenali sebagai tipe data waktu oleh pandas. Setelah itu, data diurutkan berdasarkan tanggal secara menaik (ascending) untuk memastikan urutan kronologisnya benar. Kemudian, kolom 'date' disimpan ke dalam variabel terpisah (dates) agar tidak ikut diproses dalam langkah-langkah seperti normalisasi atau scaling yang hanya berlaku untuk data numerik. Langkah terakhir adalah mencetak beberapa baris awal dari DataFrame (df_cleaned) untuk memastikan perubahan telah diterapkan dengan benar."
      ]
    },
    {
      "cell_type": "code",
      "execution_count": 7,
      "metadata": {
        "colab": {
          "base_uri": "https://localhost:8080/"
        },
        "id": "wDRODAwAd2pi",
        "outputId": "aea3bb70-e705-47f3-a0dc-cdc49b4b106d"
      },
      "outputs": [
        {
          "name": "stdout",
          "output_type": "stream",
          "text": [
            "        date  previous  open_price  first_trade    high     low   close  \\\n",
            "0 2019-07-29    4440.0      4480.0       4480.0  4480.0  4440.0  4460.0   \n",
            "1 2019-07-30    4460.0      4500.0       4500.0  4500.0  4460.0  4500.0   \n",
            "2 2019-07-31    4500.0      4500.0       4500.0  4510.0  4450.0  4480.0   \n",
            "3 2019-08-01    4480.0      4490.0       4490.0  4510.0  4410.0  4450.0   \n",
            "4 2019-08-02    4450.0      4400.0       4400.0  4470.0  4390.0  4450.0   \n",
            "\n",
            "        volume         value  frequency  foreign_sell  foreign_buy  \n",
            "0   91877000.0  4.098494e+11     7033.0    81038800.0   42272500.0  \n",
            "1   68755800.0  3.086996e+11     5799.0    29698800.0   31106400.0  \n",
            "2  105834600.0  4.738443e+11     6659.0    92869100.0   64220800.0  \n",
            "3  143626600.0  6.393417e+11    12051.0    85420900.0   64853300.0  \n",
            "4  119342500.0  5.291418e+11     7231.0    65417900.0   68705400.0  \n"
          ]
        }
      ],
      "source": [
        "# Konversi kolom 'date' ke datetime\n",
        "df_cleaned['date'] = pd.to_datetime(df_cleaned['date'])\n",
        "\n",
        "# Urutkan berdasarkan tanggal secara ascending\n",
        "df_cleaned = df_cleaned.sort_values(by='date').reset_index(drop=True)\n",
        "\n",
        "# Simpan kolom 'date' ke variabel terpisah agar tidak diskalakan\n",
        "dates = df_cleaned['date']\n",
        "\n",
        "# Cek hasilnya\n",
        "print(df_cleaned.head())"
      ]
    },
    {
      "cell_type": "code",
      "execution_count": 8,
      "metadata": {
        "colab": {
          "base_uri": "https://localhost:8080/"
        },
        "id": "6e1YAZBnnIY1",
        "outputId": "58ddaa44-3eb1-4f84-bb6a-e5470ea91297"
      },
      "outputs": [
        {
          "name": "stdout",
          "output_type": "stream",
          "text": [
            "        date  open_price      high       low     close\n",
            "0 2019-07-29    0.705512  0.528708  0.544153  0.541371\n",
            "1 2019-07-30    0.708661  0.533493  0.548926  0.550827\n",
            "2 2019-07-31    0.708661  0.535885  0.546539  0.546099\n",
            "3 2019-08-01    0.707087  0.535885  0.536993  0.539007\n",
            "4 2019-08-02    0.692913  0.526316  0.532220  0.539007\n"
          ]
        }
      ],
      "source": [
        "# Hanya kolom numerik yang akan dinormalisasi\n",
        "features = ['open_price', 'high', 'low', 'close']\n",
        "\n",
        "# Simpan kolom tanggal (pastikan kolom tanggal sudah ada dan bernama 'date')\n",
        "dates = df_cleaned[['date']].copy()\n",
        "\n",
        "# Salin data numerik untuk penskalaan\n",
        "features_scaled = df_cleaned[features].copy()\n",
        "\n",
        "# Normalisasi menggunakan MinMaxScaler\n",
        "MMS = MinMaxScaler()\n",
        "features_scaled_scaled = MMS.fit_transform(features_scaled)\n",
        "\n",
        "# Konversi hasil scaling ke DataFrame kembali dengan kolom yang sesuai\n",
        "features_scaled_df = pd.DataFrame(features_scaled_scaled, columns=features)\n",
        "\n",
        "# Gabungkan kembali kolom tanggal dengan data yang telah dinormalisasi\n",
        "df_scaled = pd.concat([dates.reset_index(drop=True), features_scaled_df.reset_index(drop=True)], axis=1)\n",
        "\n",
        "# Tampilkan 5 data pertama\n",
        "print(df_scaled.head())"
      ]
    },
    {
      "cell_type": "markdown",
      "metadata": {
        "id": "iGAwNsuvnFct"
      },
      "source": [
        "Feature Engineering dan melakukan normalisasi pada kolom-kolom numerik tertentu dalam dataset agar nilainya berada dalam rentang yang seragam, biasanya antara 0 dan 1, menggunakan metode MinMaxScaler. Kolom yang dinormalisasi adalah 'open_price', 'high', 'low', dan 'close', yang semuanya berkaitan dengan harga saham. Proses ini dilakukan dengan tetap memisahkan kolom 'date' agar tidak ikut terpengaruh oleh normalisasi. Setelah dinormalisasi, data dikonversi kembali menjadi DataFrame dan digabungkan lagi dengan kolom tanggal, sehingga menghasilkan dataset baru (df_scaled) yang siap digunakan untuk pemodelan atau visualisasi dengan nilai-nilai yang sudah berskala."
      ]
    },
    {
      "cell_type": "code",
      "execution_count": 9,
      "metadata": {
        "colab": {
          "base_uri": "https://localhost:8080/"
        },
        "id": "Vgd8kdioYQaO",
        "outputId": "0e2b4f75-aa36-4a2b-c53c-a8a2f0672494"
      },
      "outputs": [
        {
          "data": {
            "text/plain": [
              "(1355, 5)"
            ]
          },
          "execution_count": 9,
          "metadata": {},
          "output_type": "execute_result"
        }
      ],
      "source": [
        "df_scaled.shape # mengetahui dimensi dari DataFrame"
      ]
    },
    {
      "cell_type": "code",
      "execution_count": 10,
      "metadata": {
        "colab": {
          "base_uri": "https://localhost:8080/"
        },
        "id": "gnJ7JbTjzw4i",
        "outputId": "0b296067-4cb5-4ba0-9829-d90c6c639dd0"
      },
      "outputs": [
        {
          "data": {
            "text/plain": [
              "1084"
            ]
          },
          "execution_count": 10,
          "metadata": {},
          "output_type": "execute_result"
        }
      ],
      "source": [
        "#digunakan untuk pelatihan (training size) dalam konteks pembagian data menjadi data pelatihan dan data pengujian (training and testing data) 80%:20%\n",
        "training_size = round(len(df_scaled) * 0.80)\n",
        "training_size"
      ]
    },
    {
      "cell_type": "markdown",
      "metadata": {
        "id": "YW-J7YOikhDQ"
      },
      "source": [
        "menentukan ukuran data pelatihan (training set) dengan mengambil 80% dari total jumlah data. Fungsi len(df_scaled) menghitung jumlah total baris, lalu dikalikan 0.80 untuk mendapatkan 80 persennya, dan hasilnya dibulatkan menggunakan round() agar menjadi angka bulat. Nilai ini nantinya akan digunakan untuk memisahkan data menjadi data pelatihan dan data pengujian (testing)."
      ]
    },
    {
      "cell_type": "code",
      "execution_count": 11,
      "metadata": {
        "colab": {
          "base_uri": "https://localhost:8080/"
        },
        "id": "pj0umO90a_qe",
        "outputId": "8ff03554-eb31-4f60-b188-b16c0674f60b"
      },
      "outputs": [
        {
          "data": {
            "text/plain": [
              "((1084, 5), (271, 5))"
            ]
          },
          "execution_count": 11,
          "metadata": {},
          "output_type": "execute_result"
        }
      ],
      "source": [
        "#split data\n",
        "train_data = df_scaled[:training_size] #data train\n",
        "test_data  = df_scaled[training_size:] #data test\n",
        "\n",
        "train_data.shape, test_data.shape    #train dan tes tetap berjumlah 4 kolom dari shape"
      ]
    },
    {
      "cell_type": "code",
      "execution_count": 12,
      "metadata": {
        "colab": {
          "base_uri": "https://localhost:8080/",
          "height": 495
        },
        "id": "47Jv8PC2bVlx",
        "outputId": "5d5cb553-971f-482a-ab55-d387418580ac"
      },
      "outputs": [
        {
          "name": "stdout",
          "output_type": "stream",
          "text": [
            "Train dates : 2019-07-29 --- 2023-12-29  (n=1084)\n",
            "Test dates  : 2024-01-02 --- 2025-02-21  (n=271)\n",
            "\n"
          ]
        },
        {
          "data": {
            "image/png": "[encoded data removed]",
            "text/plain": [
              "<Figure size 1200x400 with 1 Axes>"
            ]
          },
          "metadata": {},
          "output_type": "display_data"
        }
      ],
      "source": [
        "# Split data menjadi train dan test\n",
        "# ************************************************************************************************\n",
        "\n",
        "size = 271  # jumlah hari terakhir untuk test data\n",
        "train_data = df_scaled[:-size].copy()\n",
        "test_data = df_scaled[-size:].copy()\n",
        "\n",
        "# Pastikan kolom 'date' menjadi index agar plot berdasarkan waktu\n",
        "train_data.set_index('date', inplace=True)\n",
        "test_data.set_index('date', inplace=True)\n",
        "\n",
        "# Tampilkan rentang tanggal dari train dan test\n",
        "print(f\"Train dates : {train_data.index.min().date()} --- {train_data.index.max().date()}  (n={len(train_data)})\")\n",
        "print(f\"Test dates  : {test_data.index.min().date()} --- {test_data.index.max().date()}  (n={len(test_data)})\")\n",
        "print()\n",
        "\n",
        "# Visualisasi data train dan test\n",
        "# ************************************************************************************************\n",
        "\n",
        "col = 'high'  # kolom yang ingin divisualisasikan\n",
        "plt.figure(figsize=(12, 4))\n",
        "plt.plot(train_data[col], label='Train')\n",
        "plt.plot(test_data[col], label='Test')\n",
        "plt.title(f'Perbandingan Data Train dan Test pada Kolom: {col.upper()}')\n",
        "plt.xlabel('Tanggal')\n",
        "plt.ylabel('Harga')\n",
        "plt.legend()\n",
        "plt.grid(True)\n",
        "plt.show()\n"
      ]
    },
    {
      "cell_type": "markdown",
      "metadata": {
        "id": "3uTcRGVhkqYz"
      },
      "source": [
        " Visualisasi tersebut membantu memahami sejauh mana cakupan data train dan test serta melihat perbandingan tren harga pada kolom tertentu (dalam hal ini kolom 'high') dari waktu ke waktu."
      ]
    },
    {
      "cell_type": "code",
      "execution_count": 13,
      "metadata": {
        "id": "2WS2qr8noKnD"
      },
      "outputs": [],
      "source": [
        "def create_sequence(dataset):\n",
        "    \"\"\"\n",
        "    Membuat urutan sequence dan label dari dataset time series.\n",
        "\n",
        "    Args:\n",
        "    - dataset: DataFrame, data time series yang sudah dinormalisasi (tanpa kolom tanggal)\n",
        "\n",
        "    Returns:\n",
        "    - sequences: array berisi urutan data (X)\n",
        "    - labels: array berisi target/label prediksi (y)\n",
        "    \"\"\"\n",
        "    sequences = []  # untuk menyimpan urutan data input (fitur)\n",
        "    labels = []     # untuk menyimpan data target (label)\n",
        "\n",
        "    start_idx = 0  # indeks awal dari urutan data\n",
        "\n",
        "    # Loop dimulai dari 50 (ukuran jendela/sequence) hingga akhir dataset\n",
        "    for stop_idx in range(50, len(dataset)):\n",
        "        sequences.append(dataset.iloc[start_idx:stop_idx].values)\n",
        "        labels.append(dataset.iloc[stop_idx].values)  # ambil 1 baris sebagai label (biasanya kolom 'close' saja)\n",
        "        start_idx += 1  # geser jendela ke depan\n",
        "\n",
        "    return np.array(sequences), np.array(labels)"
      ]
    },
    {
      "cell_type": "code",
      "execution_count": 14,
      "metadata": {
        "id": "xYtj4JI2oM-x"
      },
      "outputs": [],
      "source": [
        "#membuat urutan data pelatihan (training data) dan pengujian (testing data)\n",
        "X_train, y_train = create_sequence(train_data)\n",
        "X_test, y_test = create_sequence(test_data)"
      ]
    },
    {
      "cell_type": "code",
      "execution_count": 15,
      "metadata": {
        "colab": {
          "base_uri": "https://localhost:8080/"
        },
        "id": "nXXd3j3N-XHX",
        "outputId": "6fa622aa-86ea-4fe3-fd3f-1bfdbfc4b016"
      },
      "outputs": [
        {
          "data": {
            "text/plain": [
              "((1034, 50, 4), (1034, 4), (221, 50, 4), (221, 4))"
            ]
          },
          "execution_count": 15,
          "metadata": {},
          "output_type": "execute_result"
        }
      ],
      "source": [
        "X_train.shape, y_train.shape, X_test.shape, y_test.shape # shape memeriksa jumlah baris dan kolom setelah di split"
      ]
    },
    {
      "cell_type": "markdown",
      "metadata": {
        "id": "7b14ipbQdxEU"
      },
      "source": []
    },
    {
      "cell_type": "markdown",
      "metadata": {
        "id": "nc-Ph-oIYAUU"
      },
      "source": [
        "## Modelling"
      ]
    },
    {
      "cell_type": "markdown",
      "metadata": {
        "id": "S_y8NvAzk-C_"
      },
      "source": [
        "Membangun sebuah model deep learning dengan arsitektur Long Short-Term Memory (LSTM) menggunakan Sequential dari Keras, yang dirancang khusus untuk menangani data deret waktu seperti prediksi harga saham. Model ini terdiri dari empat lapisan LSTM berurutan, masing-masing dengan 50 unit neuron; tiga lapisan pertama menggunakan return_sequences=True untuk mengirim output ke lapisan berikutnya, sedangkan lapisan terakhir tidak mengembalikan urutan karena langsung terhubung ke lapisan output. Setiap lapisan LSTM diikuti oleh lapisan Dropout dengan rasio 0.2 guna mengurangi overfitting. Lapisan terakhir adalah Dense yang berfungsi sebagai output layer, diatur dengan units=4 untuk memprediksi empat nilai sekaligus. Model dikompilasi menggunakan optimizer Adam, dengan fungsi kerugian mean_squared_error dan metrik tambahan mean_absolute_error untuk mengevaluasi performa model secara lebih detail."
      ]
    },
    {
      "cell_type": "code",
      "execution_count": 16,
      "metadata": {
        "colab": {
          "base_uri": "https://localhost:8080/",
          "height": 459
        },
        "id": "UTwK0t8XYAUU",
        "outputId": "4e39c6a9-b70e-408e-9917-1845fbe754ff"
      },
      "outputs": [
        {
          "data": {
            "text/html": [
              "<pre style=\"white-space:pre;overflow-x:auto;line-height:normal;font-family:Menlo,'DejaVu Sans Mono',consolas,'Courier New',monospace\"><span style=\"font-weight: bold\">Model: \"sequential\"</span>\n",
              "</pre>\n"
            ],
            "text/plain": [
              "\u001b[1mModel: \"sequential\"\u001b[0m\n"
            ]
          },
          "metadata": {},
          "output_type": "display_data"
        },
        {
          "data": {
            "text/html": [
              "<pre style=\"white-space:pre;overflow-x:auto;line-height:normal;font-family:Menlo,'DejaVu Sans Mono',consolas,'Courier New',monospace\">┏━━━━━━━━━━━━━━━━━━━━━━━━━━━━━━━━━┳━━━━━━━━━━━━━━━━━━━━━━━━┳━━━━━━━━━━━━━━━┓\n",
              "┃<span style=\"font-weight: bold\"> Layer (type)                    </span>┃<span style=\"font-weight: bold\"> Output Shape           </span>┃<span style=\"font-weight: bold\">       Param # </span>┃\n",
              "┡━━━━━━━━━━━━━━━━━━━━━━━━━━━━━━━━━╇━━━━━━━━━━━━━━━━━━━━━━━━╇━━━━━━━━━━━━━━━┩\n",
              "│ lstm (<span style=\"color: #0087ff; text-decoration-color: #0087ff\">LSTM</span>)                     │ (<span style=\"color: #00d7ff; text-decoration-color: #00d7ff\">None</span>, <span style=\"color: #00af00; text-decoration-color: #00af00\">50</span>, <span style=\"color: #00af00; text-decoration-color: #00af00\">50</span>)         │        <span style=\"color: #00af00; text-decoration-color: #00af00\">11,000</span> │\n",
              "├─────────────────────────────────┼────────────────────────┼───────────────┤\n",
              "│ dropout (<span style=\"color: #0087ff; text-decoration-color: #0087ff\">Dropout</span>)               │ (<span style=\"color: #00d7ff; text-decoration-color: #00d7ff\">None</span>, <span style=\"color: #00af00; text-decoration-color: #00af00\">50</span>, <span style=\"color: #00af00; text-decoration-color: #00af00\">50</span>)         │             <span style=\"color: #00af00; text-decoration-color: #00af00\">0</span> │\n",
              "├─────────────────────────────────┼────────────────────────┼───────────────┤\n",
              "│ lstm_1 (<span style=\"color: #0087ff; text-decoration-color: #0087ff\">LSTM</span>)                   │ (<span style=\"color: #00d7ff; text-decoration-color: #00d7ff\">None</span>, <span style=\"color: #00af00; text-decoration-color: #00af00\">50</span>, <span style=\"color: #00af00; text-decoration-color: #00af00\">50</span>)         │        <span style=\"color: #00af00; text-decoration-color: #00af00\">20,200</span> │\n",
              "├─────────────────────────────────┼────────────────────────┼───────────────┤\n",
              "│ dropout_1 (<span style=\"color: #0087ff; text-decoration-color: #0087ff\">Dropout</span>)             │ (<span style=\"color: #00d7ff; text-decoration-color: #00d7ff\">None</span>, <span style=\"color: #00af00; text-decoration-color: #00af00\">50</span>, <span style=\"color: #00af00; text-decoration-color: #00af00\">50</span>)         │             <span style=\"color: #00af00; text-decoration-color: #00af00\">0</span> │\n",
              "├─────────────────────────────────┼────────────────────────┼───────────────┤\n",
              "│ lstm_2 (<span style=\"color: #0087ff; text-decoration-color: #0087ff\">LSTM</span>)                   │ (<span style=\"color: #00d7ff; text-decoration-color: #00d7ff\">None</span>, <span style=\"color: #00af00; text-decoration-color: #00af00\">50</span>, <span style=\"color: #00af00; text-decoration-color: #00af00\">50</span>)         │        <span style=\"color: #00af00; text-decoration-color: #00af00\">20,200</span> │\n",
              "├─────────────────────────────────┼────────────────────────┼───────────────┤\n",
              "│ dropout_2 (<span style=\"color: #0087ff; text-decoration-color: #0087ff\">Dropout</span>)             │ (<span style=\"color: #00d7ff; text-decoration-color: #00d7ff\">None</span>, <span style=\"color: #00af00; text-decoration-color: #00af00\">50</span>, <span style=\"color: #00af00; text-decoration-color: #00af00\">50</span>)         │             <span style=\"color: #00af00; text-decoration-color: #00af00\">0</span> │\n",
              "├─────────────────────────────────┼────────────────────────┼───────────────┤\n",
              "│ lstm_3 (<span style=\"color: #0087ff; text-decoration-color: #0087ff\">LSTM</span>)                   │ (<span style=\"color: #00d7ff; text-decoration-color: #00d7ff\">None</span>, <span style=\"color: #00af00; text-decoration-color: #00af00\">50</span>)             │        <span style=\"color: #00af00; text-decoration-color: #00af00\">20,200</span> │\n",
              "├─────────────────────────────────┼────────────────────────┼───────────────┤\n",
              "│ dropout_3 (<span style=\"color: #0087ff; text-decoration-color: #0087ff\">Dropout</span>)             │ (<span style=\"color: #00d7ff; text-decoration-color: #00d7ff\">None</span>, <span style=\"color: #00af00; text-decoration-color: #00af00\">50</span>)             │             <span style=\"color: #00af00; text-decoration-color: #00af00\">0</span> │\n",
              "├─────────────────────────────────┼────────────────────────┼───────────────┤\n",
              "│ dense (<span style=\"color: #0087ff; text-decoration-color: #0087ff\">Dense</span>)                   │ (<span style=\"color: #00d7ff; text-decoration-color: #00d7ff\">None</span>, <span style=\"color: #00af00; text-decoration-color: #00af00\">4</span>)              │           <span style=\"color: #00af00; text-decoration-color: #00af00\">204</span> │\n",
              "└─────────────────────────────────┴────────────────────────┴───────────────┘\n",
              "</pre>\n"
            ],
            "text/plain": [
              "┏━━━━━━━━━━━━━━━━━━━━━━━━━━━━━━━━━┳━━━━━━━━━━━━━━━━━━━━━━━━┳━━━━━━━━━━━━━━━┓\n",
              "┃\u001b[1m \u001b[0m\u001b[1mLayer (type)                   \u001b[0m\u001b[1m \u001b[0m┃\u001b[1m \u001b[0m\u001b[1mOutput Shape          \u001b[0m\u001b[1m \u001b[0m┃\u001b[1m \u001b[0m\u001b[1m      Param #\u001b[0m\u001b[1m \u001b[0m┃\n",
              "┡━━━━━━━━━━━━━━━━━━━━━━━━━━━━━━━━━╇━━━━━━━━━━━━━━━━━━━━━━━━╇━━━━━━━━━━━━━━━┩\n",
              "│ lstm (\u001b[38;5;33mLSTM\u001b[0m)                     │ (\u001b[38;5;45mNone\u001b[0m, \u001b[38;5;34m50\u001b[0m, \u001b[38;5;34m50\u001b[0m)         │        \u001b[38;5;34m11,000\u001b[0m │\n",
              "├─────────────────────────────────┼────────────────────────┼───────────────┤\n",
              "│ dropout (\u001b[38;5;33mDropout\u001b[0m)               │ (\u001b[38;5;45mNone\u001b[0m, \u001b[38;5;34m50\u001b[0m, \u001b[38;5;34m50\u001b[0m)         │             \u001b[38;5;34m0\u001b[0m │\n",
              "├─────────────────────────────────┼────────────────────────┼───────────────┤\n",
              "│ lstm_1 (\u001b[38;5;33mLSTM\u001b[0m)                   │ (\u001b[38;5;45mNone\u001b[0m, \u001b[38;5;34m50\u001b[0m, \u001b[38;5;34m50\u001b[0m)         │        \u001b[38;5;34m20,200\u001b[0m │\n",
              "├─────────────────────────────────┼────────────────────────┼───────────────┤\n",
              "│ dropout_1 (\u001b[38;5;33mDropout\u001b[0m)             │ (\u001b[38;5;45mNone\u001b[0m, \u001b[38;5;34m50\u001b[0m, \u001b[38;5;34m50\u001b[0m)         │             \u001b[38;5;34m0\u001b[0m │\n",
              "├─────────────────────────────────┼────────────────────────┼───────────────┤\n",
              "│ lstm_2 (\u001b[38;5;33mLSTM\u001b[0m)                   │ (\u001b[38;5;45mNone\u001b[0m, \u001b[38;5;34m50\u001b[0m, \u001b[38;5;34m50\u001b[0m)         │        \u001b[38;5;34m20,200\u001b[0m │\n",
              "├─────────────────────────────────┼────────────────────────┼───────────────┤\n",
              "│ dropout_2 (\u001b[38;5;33mDropout\u001b[0m)             │ (\u001b[38;5;45mNone\u001b[0m, \u001b[38;5;34m50\u001b[0m, \u001b[38;5;34m50\u001b[0m)         │             \u001b[38;5;34m0\u001b[0m │\n",
              "├─────────────────────────────────┼────────────────────────┼───────────────┤\n",
              "│ lstm_3 (\u001b[38;5;33mLSTM\u001b[0m)                   │ (\u001b[38;5;45mNone\u001b[0m, \u001b[38;5;34m50\u001b[0m)             │        \u001b[38;5;34m20,200\u001b[0m │\n",
              "├─────────────────────────────────┼────────────────────────┼───────────────┤\n",
              "│ dropout_3 (\u001b[38;5;33mDropout\u001b[0m)             │ (\u001b[38;5;45mNone\u001b[0m, \u001b[38;5;34m50\u001b[0m)             │             \u001b[38;5;34m0\u001b[0m │\n",
              "├─────────────────────────────────┼────────────────────────┼───────────────┤\n",
              "│ dense (\u001b[38;5;33mDense\u001b[0m)                   │ (\u001b[38;5;45mNone\u001b[0m, \u001b[38;5;34m4\u001b[0m)              │           \u001b[38;5;34m204\u001b[0m │\n",
              "└─────────────────────────────────┴────────────────────────┴───────────────┘\n"
            ]
          },
          "metadata": {},
          "output_type": "display_data"
        },
        {
          "data": {
            "text/html": [
              "<pre style=\"white-space:pre;overflow-x:auto;line-height:normal;font-family:Menlo,'DejaVu Sans Mono',consolas,'Courier New',monospace\"><span style=\"font-weight: bold\"> Total params: </span><span style=\"color: #00af00; text-decoration-color: #00af00\">71,804</span> (280.48 KB)\n",
              "</pre>\n"
            ],
            "text/plain": [
              "\u001b[1m Total params: \u001b[0m\u001b[38;5;34m71,804\u001b[0m (280.48 KB)\n"
            ]
          },
          "metadata": {},
          "output_type": "display_data"
        },
        {
          "data": {
            "text/html": [
              "<pre style=\"white-space:pre;overflow-x:auto;line-height:normal;font-family:Menlo,'DejaVu Sans Mono',consolas,'Courier New',monospace\"><span style=\"font-weight: bold\"> Trainable params: </span><span style=\"color: #00af00; text-decoration-color: #00af00\">71,804</span> (280.48 KB)\n",
              "</pre>\n"
            ],
            "text/plain": [
              "\u001b[1m Trainable params: \u001b[0m\u001b[38;5;34m71,804\u001b[0m (280.48 KB)\n"
            ]
          },
          "metadata": {},
          "output_type": "display_data"
        },
        {
          "data": {
            "text/html": [
              "<pre style=\"white-space:pre;overflow-x:auto;line-height:normal;font-family:Menlo,'DejaVu Sans Mono',consolas,'Courier New',monospace\"><span style=\"font-weight: bold\"> Non-trainable params: </span><span style=\"color: #00af00; text-decoration-color: #00af00\">0</span> (0.00 B)\n",
              "</pre>\n"
            ],
            "text/plain": [
              "\u001b[1m Non-trainable params: \u001b[0m\u001b[38;5;34m0\u001b[0m (0.00 B)\n"
            ]
          },
          "metadata": {},
          "output_type": "display_data"
        },
        {
          "name": "stdout",
          "output_type": "stream",
          "text": [
            "None\n"
          ]
        }
      ],
      "source": [
        "from tensorflow.keras.layers import LSTM, Dropout, Dense\n",
        "\n",
        " #Membuat objek Sequential sebagai model\n",
        "regressor = Sequential()\n",
        "\n",
        "# Menambahkan lapisan LSTM pertama dengan 50 unit dan return_sequences=True untuk layer berantai\n",
        "# Dropout digunakan untuk menghindari overfitting (mengabaikan 20% neuron secara acak selama training)\n",
        "regressor.add(LSTM(units=50, return_sequences=True, input_shape=(X_train.shape[1], X_train.shape[2])))\n",
        "regressor.add(Dropout(0.2))\n",
        "\n",
        "# LSTM layer ke-2\n",
        "regressor.add(LSTM(units=50, return_sequences=True))\n",
        "regressor.add(Dropout(0.2))\n",
        "\n",
        "# LSTM layer ke-3\n",
        "regressor.add(LSTM(units=50, return_sequences=True))\n",
        "regressor.add(Dropout(0.2))\n",
        "\n",
        "# LSTM layer ke-4 (terakhir), return_sequences=False karena tidak ada lagi LSTM setelah ini\n",
        "regressor.add(LSTM(units=50))\n",
        "regressor.add(Dropout(0.2))\n",
        "\n",
        "# Output layer - Dense, units=4 jika kamu ingin prediksi 4 langkah ke depan\n",
        "# Jika hanya 1 langkah (misalnya harga close keesokan hari), ubah jadi units=1\n",
        "regressor.add(Dense(units=4))\n",
        "\n",
        "# Kompilasi model dengan optimizer Adam dan loss fungsi MSE (Mean Squared Error)\n",
        "# Ditambahkan juga metric MAE untuk melihat performa lebih jelas\n",
        "regressor.compile(optimizer='adam', loss='mean_squared_error', metrics=['mean_absolute_error'])\n",
        "\n",
        "# Melihat ringkasan arsitektur model\n",
        "print(regressor.summary())"
      ]
    },
    {
      "cell_type": "code",
      "execution_count": 17,
      "metadata": {
        "colab": {
          "base_uri": "https://localhost:8080/"
        },
        "id": "PQbsEn7F8Gft",
        "outputId": "28610fe0-e932-4e64-adb9-30ec742fee76"
      },
      "outputs": [
        {
          "name": "stdout",
          "output_type": "stream",
          "text": [
            "Epoch 1/50\n",
            "\u001b[1m33/33\u001b[0m \u001b[32m━━━━━━━━━━━━━━━━━━━━\u001b[0m\u001b[37m\u001b[0m \u001b[1m21s\u001b[0m 166ms/step - loss: 0.1193 - mean_absolute_error: 0.2676 - val_loss: 0.0072 - val_mean_absolute_error: 0.0703\n",
            "Epoch 2/50\n",
            "\u001b[1m33/33\u001b[0m \u001b[32m━━━━━━━━━━━━━━━━━━━━\u001b[0m\u001b[37m\u001b[0m \u001b[1m8s\u001b[0m 103ms/step - loss: 0.0161 - mean_absolute_error: 0.0988 - val_loss: 0.0044 - val_mean_absolute_error: 0.0540\n",
            "Epoch 3/50\n",
            "\u001b[1m33/33\u001b[0m \u001b[32m━━━━━━━━━━━━━━━━━━━━\u001b[0m\u001b[37m\u001b[0m \u001b[1m5s\u001b[0m 141ms/step - loss: 0.0129 - mean_absolute_error: 0.0876 - val_loss: 0.0050 - val_mean_absolute_error: 0.0597\n",
            "Epoch 4/50\n",
            "\u001b[1m33/33\u001b[0m \u001b[32m━━━━━━━━━━━━━━━━━━━━\u001b[0m\u001b[37m\u001b[0m \u001b[1m3s\u001b[0m 104ms/step - loss: 0.0113 - mean_absolute_error: 0.0832 - val_loss: 0.0037 - val_mean_absolute_error: 0.0497\n",
            "Epoch 5/50\n",
            "\u001b[1m33/33\u001b[0m \u001b[32m━━━━━━━━━━━━━━━━━━━━\u001b[0m\u001b[37m\u001b[0m \u001b[1m5s\u001b[0m 103ms/step - loss: 0.0111 - mean_absolute_error: 0.0826 - val_loss: 0.0044 - val_mean_absolute_error: 0.0521\n",
            "Epoch 6/50\n",
            "\u001b[1m33/33\u001b[0m \u001b[32m━━━━━━━━━━━━━━━━━━━━\u001b[0m\u001b[37m\u001b[0m \u001b[1m5s\u001b[0m 109ms/step - loss: 0.0097 - mean_absolute_error: 0.0753 - val_loss: 0.0037 - val_mean_absolute_error: 0.0476\n",
            "Epoch 7/50\n",
            "\u001b[1m33/33\u001b[0m \u001b[32m━━━━━━━━━━━━━━━━━━━━\u001b[0m\u001b[37m\u001b[0m \u001b[1m5s\u001b[0m 99ms/step - loss: 0.0079 - mean_absolute_error: 0.0682 - val_loss: 0.0033 - val_mean_absolute_error: 0.0434\n",
            "Epoch 8/50\n",
            "\u001b[1m33/33\u001b[0m \u001b[32m━━━━━━━━━━━━━━━━━━━━\u001b[0m\u001b[37m\u001b[0m \u001b[1m6s\u001b[0m 140ms/step - loss: 0.0080 - mean_absolute_error: 0.0688 - val_loss: 0.0035 - val_mean_absolute_error: 0.0466\n",
            "Epoch 9/50\n",
            "\u001b[1m33/33\u001b[0m \u001b[32m━━━━━━━━━━━━━━━━━━━━\u001b[0m\u001b[37m\u001b[0m \u001b[1m4s\u001b[0m 104ms/step - loss: 0.0081 - mean_absolute_error: 0.0692 - val_loss: 0.0031 - val_mean_absolute_error: 0.0434\n",
            "Epoch 10/50\n",
            "\u001b[1m33/33\u001b[0m \u001b[32m━━━━━━━━━━━━━━━━━━━━\u001b[0m\u001b[37m\u001b[0m \u001b[1m3s\u001b[0m 100ms/step - loss: 0.0077 - mean_absolute_error: 0.0654 - val_loss: 0.0040 - val_mean_absolute_error: 0.0496\n",
            "Epoch 11/50\n",
            "\u001b[1m33/33\u001b[0m \u001b[32m━━━━━━━━━━━━━━━━━━━━\u001b[0m\u001b[37m\u001b[0m \u001b[1m6s\u001b[0m 140ms/step - loss: 0.0076 - mean_absolute_error: 0.0656 - val_loss: 0.0027 - val_mean_absolute_error: 0.0401\n",
            "Epoch 12/50\n",
            "\u001b[1m33/33\u001b[0m \u001b[32m━━━━━━━━━━━━━━━━━━━━\u001b[0m\u001b[37m\u001b[0m \u001b[1m3s\u001b[0m 101ms/step - loss: 0.0072 - mean_absolute_error: 0.0638 - val_loss: 0.0030 - val_mean_absolute_error: 0.0425\n",
            "Epoch 13/50\n",
            "\u001b[1m33/33\u001b[0m \u001b[32m━━━━━━━━━━━━━━━━━━━━\u001b[0m\u001b[37m\u001b[0m \u001b[1m3s\u001b[0m 100ms/step - loss: 0.0070 - mean_absolute_error: 0.0644 - val_loss: 0.0032 - val_mean_absolute_error: 0.0450\n",
            "Epoch 14/50\n",
            "\u001b[1m33/33\u001b[0m \u001b[32m━━━━━━━━━━━━━━━━━━━━\u001b[0m\u001b[37m\u001b[0m \u001b[1m6s\u001b[0m 132ms/step - loss: 0.0065 - mean_absolute_error: 0.0617 - val_loss: 0.0023 - val_mean_absolute_error: 0.0376\n",
            "Epoch 15/50\n",
            "\u001b[1m33/33\u001b[0m \u001b[32m━━━━━━━━━━━━━━━━━━━━\u001b[0m\u001b[37m\u001b[0m \u001b[1m4s\u001b[0m 103ms/step - loss: 0.0069 - mean_absolute_error: 0.0618 - val_loss: 0.0033 - val_mean_absolute_error: 0.0459\n",
            "Epoch 16/50\n",
            "\u001b[1m33/33\u001b[0m \u001b[32m━━━━━━━━━━━━━━━━━━━━\u001b[0m\u001b[37m\u001b[0m \u001b[1m6s\u001b[0m 123ms/step - loss: 0.0065 - mean_absolute_error: 0.0615 - val_loss: 0.0029 - val_mean_absolute_error: 0.0420\n",
            "Epoch 17/50\n",
            "\u001b[1m33/33\u001b[0m \u001b[32m━━━━━━━━━━━━━━━━━━━━\u001b[0m\u001b[37m\u001b[0m \u001b[1m4s\u001b[0m 112ms/step - loss: 0.0066 - mean_absolute_error: 0.0608 - val_loss: 0.0031 - val_mean_absolute_error: 0.0429\n",
            "Epoch 18/50\n",
            "\u001b[1m33/33\u001b[0m \u001b[32m━━━━━━━━━━━━━━━━━━━━\u001b[0m\u001b[37m\u001b[0m \u001b[1m5s\u001b[0m 104ms/step - loss: 0.0056 - mean_absolute_error: 0.0576 - val_loss: 0.0028 - val_mean_absolute_error: 0.0434\n",
            "Epoch 19/50\n",
            "\u001b[1m33/33\u001b[0m \u001b[32m━━━━━━━━━━━━━━━━━━━━\u001b[0m\u001b[37m\u001b[0m \u001b[1m4s\u001b[0m 114ms/step - loss: 0.0058 - mean_absolute_error: 0.0583 - val_loss: 0.0032 - val_mean_absolute_error: 0.0433\n",
            "Epoch 20/50\n",
            "\u001b[1m33/33\u001b[0m \u001b[32m━━━━━━━━━━━━━━━━━━━━\u001b[0m\u001b[37m\u001b[0m \u001b[1m5s\u001b[0m 100ms/step - loss: 0.0056 - mean_absolute_error: 0.0573 - val_loss: 0.0024 - val_mean_absolute_error: 0.0373\n",
            "Epoch 21/50\n",
            "\u001b[1m33/33\u001b[0m \u001b[32m━━━━━━━━━━━━━━━━━━━━\u001b[0m\u001b[37m\u001b[0m \u001b[1m4s\u001b[0m 132ms/step - loss: 0.0063 - mean_absolute_error: 0.0610 - val_loss: 0.0030 - val_mean_absolute_error: 0.0433\n",
            "Epoch 22/50\n",
            "\u001b[1m33/33\u001b[0m \u001b[32m━━━━━━━━━━━━━━━━━━━━\u001b[0m\u001b[37m\u001b[0m \u001b[1m5s\u001b[0m 141ms/step - loss: 0.0064 - mean_absolute_error: 0.0594 - val_loss: 0.0020 - val_mean_absolute_error: 0.0355\n",
            "Epoch 23/50\n",
            "\u001b[1m33/33\u001b[0m \u001b[32m━━━━━━━━━━━━━━━━━━━━\u001b[0m\u001b[37m\u001b[0m \u001b[1m3s\u001b[0m 104ms/step - loss: 0.0054 - mean_absolute_error: 0.0542 - val_loss: 0.0024 - val_mean_absolute_error: 0.0393\n",
            "Epoch 24/50\n",
            "\u001b[1m33/33\u001b[0m \u001b[32m━━━━━━━━━━━━━━━━━━━━\u001b[0m\u001b[37m\u001b[0m \u001b[1m3s\u001b[0m 105ms/step - loss: 0.0054 - mean_absolute_error: 0.0550 - val_loss: 0.0023 - val_mean_absolute_error: 0.0372\n",
            "Epoch 25/50\n",
            "\u001b[1m33/33\u001b[0m \u001b[32m━━━━━━━━━━━━━━━━━━━━\u001b[0m\u001b[37m\u001b[0m \u001b[1m4s\u001b[0m 113ms/step - loss: 0.0046 - mean_absolute_error: 0.0511 - val_loss: 0.0038 - val_mean_absolute_error: 0.0474\n",
            "Epoch 26/50\n",
            "\u001b[1m33/33\u001b[0m \u001b[32m━━━━━━━━━━━━━━━━━━━━\u001b[0m\u001b[37m\u001b[0m \u001b[1m4s\u001b[0m 127ms/step - loss: 0.0049 - mean_absolute_error: 0.0537 - val_loss: 0.0019 - val_mean_absolute_error: 0.0346\n",
            "Epoch 27/50\n",
            "\u001b[1m33/33\u001b[0m \u001b[32m━━━━━━━━━━━━━━━━━━━━\u001b[0m\u001b[37m\u001b[0m \u001b[1m5s\u001b[0m 138ms/step - loss: 0.0045 - mean_absolute_error: 0.0516 - val_loss: 0.0019 - val_mean_absolute_error: 0.0338\n",
            "Epoch 28/50\n",
            "\u001b[1m33/33\u001b[0m \u001b[32m━━━━━━━━━━━━━━━━━━━━\u001b[0m\u001b[37m\u001b[0m \u001b[1m4s\u001b[0m 113ms/step - loss: 0.0048 - mean_absolute_error: 0.0527 - val_loss: 0.0017 - val_mean_absolute_error: 0.0333\n",
            "Epoch 29/50\n",
            "\u001b[1m33/33\u001b[0m \u001b[32m━━━━━━━━━━━━━━━━━━━━\u001b[0m\u001b[37m\u001b[0m \u001b[1m4s\u001b[0m 123ms/step - loss: 0.0047 - mean_absolute_error: 0.0519 - val_loss: 0.0020 - val_mean_absolute_error: 0.0356\n",
            "Epoch 30/50\n",
            "\u001b[1m33/33\u001b[0m \u001b[32m━━━━━━━━━━━━━━━━━━━━\u001b[0m\u001b[37m\u001b[0m \u001b[1m3s\u001b[0m 103ms/step - loss: 0.0041 - mean_absolute_error: 0.0481 - val_loss: 0.0018 - val_mean_absolute_error: 0.0332\n",
            "Epoch 31/50\n",
            "\u001b[1m33/33\u001b[0m \u001b[32m━━━━━━━━━━━━━━━━━━━━\u001b[0m\u001b[37m\u001b[0m \u001b[1m3s\u001b[0m 100ms/step - loss: 0.0042 - mean_absolute_error: 0.0482 - val_loss: 0.0024 - val_mean_absolute_error: 0.0403\n",
            "Epoch 32/50\n",
            "\u001b[1m33/33\u001b[0m \u001b[32m━━━━━━━━━━━━━━━━━━━━\u001b[0m\u001b[37m\u001b[0m \u001b[1m6s\u001b[0m 121ms/step - loss: 0.0043 - mean_absolute_error: 0.0497 - val_loss: 0.0024 - val_mean_absolute_error: 0.0398\n",
            "Epoch 33/50\n",
            "\u001b[1m33/33\u001b[0m \u001b[32m━━━━━━━━━━━━━━━━━━━━\u001b[0m\u001b[37m\u001b[0m \u001b[1m4s\u001b[0m 102ms/step - loss: 0.0048 - mean_absolute_error: 0.0515 - val_loss: 0.0016 - val_mean_absolute_error: 0.0320\n",
            "Epoch 34/50\n",
            "\u001b[1m33/33\u001b[0m \u001b[32m━━━━━━━━━━━━━━━━━━━━\u001b[0m\u001b[37m\u001b[0m \u001b[1m6s\u001b[0m 139ms/step - loss: 0.0039 - mean_absolute_error: 0.0472 - val_loss: 0.0018 - val_mean_absolute_error: 0.0336\n",
            "Epoch 35/50\n",
            "\u001b[1m33/33\u001b[0m \u001b[32m━━━━━━━━━━━━━━━━━━━━\u001b[0m\u001b[37m\u001b[0m \u001b[1m4s\u001b[0m 104ms/step - loss: 0.0039 - mean_absolute_error: 0.0481 - val_loss: 0.0024 - val_mean_absolute_error: 0.0410\n",
            "Epoch 36/50\n",
            "\u001b[1m33/33\u001b[0m \u001b[32m━━━━━━━━━━━━━━━━━━━━\u001b[0m\u001b[37m\u001b[0m \u001b[1m5s\u001b[0m 106ms/step - loss: 0.0042 - mean_absolute_error: 0.0487 - val_loss: 0.0022 - val_mean_absolute_error: 0.0383\n",
            "Epoch 37/50\n",
            "\u001b[1m33/33\u001b[0m \u001b[32m━━━━━━━━━━━━━━━━━━━━\u001b[0m\u001b[37m\u001b[0m \u001b[1m6s\u001b[0m 118ms/step - loss: 0.0042 - mean_absolute_error: 0.0484 - val_loss: 0.0019 - val_mean_absolute_error: 0.0341\n",
            "Epoch 38/50\n",
            "\u001b[1m33/33\u001b[0m \u001b[32m━━━━━━━━━━━━━━━━━━━━\u001b[0m\u001b[37m\u001b[0m \u001b[1m5s\u001b[0m 105ms/step - loss: 0.0038 - mean_absolute_error: 0.0458 - val_loss: 0.0016 - val_mean_absolute_error: 0.0313\n",
            "Epoch 39/50\n",
            "\u001b[1m33/33\u001b[0m \u001b[32m━━━━━━━━━━━━━━━━━━━━\u001b[0m\u001b[37m\u001b[0m \u001b[1m6s\u001b[0m 139ms/step - loss: 0.0037 - mean_absolute_error: 0.0462 - val_loss: 0.0019 - val_mean_absolute_error: 0.0332\n",
            "Epoch 40/50\n",
            "\u001b[1m33/33\u001b[0m \u001b[32m━━━━━━━━━━━━━━━━━━━━\u001b[0m\u001b[37m\u001b[0m \u001b[1m4s\u001b[0m 105ms/step - loss: 0.0036 - mean_absolute_error: 0.0451 - val_loss: 0.0015 - val_mean_absolute_error: 0.0306\n",
            "Epoch 41/50\n",
            "\u001b[1m33/33\u001b[0m \u001b[32m━━━━━━━━━━━━━━━━━━━━\u001b[0m\u001b[37m\u001b[0m \u001b[1m3s\u001b[0m 101ms/step - loss: 0.0036 - mean_absolute_error: 0.0443 - val_loss: 0.0016 - val_mean_absolute_error: 0.0308\n",
            "Epoch 42/50\n",
            "\u001b[1m33/33\u001b[0m \u001b[32m━━━━━━━━━━━━━━━━━━━━\u001b[0m\u001b[37m\u001b[0m \u001b[1m6s\u001b[0m 141ms/step - loss: 0.0038 - mean_absolute_error: 0.0447 - val_loss: 0.0014 - val_mean_absolute_error: 0.0292\n",
            "Epoch 43/50\n",
            "\u001b[1m33/33\u001b[0m \u001b[32m━━━━━━━━━━━━━━━━━━━━\u001b[0m\u001b[37m\u001b[0m \u001b[1m4s\u001b[0m 104ms/step - loss: 0.0033 - mean_absolute_error: 0.0428 - val_loss: 0.0015 - val_mean_absolute_error: 0.0311\n",
            "Epoch 44/50\n",
            "\u001b[1m33/33\u001b[0m \u001b[32m━━━━━━━━━━━━━━━━━━━━\u001b[0m\u001b[37m\u001b[0m \u001b[1m5s\u001b[0m 105ms/step - loss: 0.0033 - mean_absolute_error: 0.0422 - val_loss: 0.0016 - val_mean_absolute_error: 0.0325\n",
            "Epoch 45/50\n",
            "\u001b[1m33/33\u001b[0m \u001b[32m━━━━━━━━━━━━━━━━━━━━\u001b[0m\u001b[37m\u001b[0m \u001b[1m5s\u001b[0m 105ms/step - loss: 0.0034 - mean_absolute_error: 0.0439 - val_loss: 0.0016 - val_mean_absolute_error: 0.0313\n",
            "Epoch 46/50\n",
            "\u001b[1m33/33\u001b[0m \u001b[32m━━━━━━━━━━━━━━━━━━━━\u001b[0m\u001b[37m\u001b[0m \u001b[1m5s\u001b[0m 102ms/step - loss: 0.0035 - mean_absolute_error: 0.0440 - val_loss: 0.0013 - val_mean_absolute_error: 0.0288\n",
            "Epoch 47/50\n",
            "\u001b[1m33/33\u001b[0m \u001b[32m━━━━━━━━━━━━━━━━━━━━\u001b[0m\u001b[37m\u001b[0m \u001b[1m5s\u001b[0m 139ms/step - loss: 0.0038 - mean_absolute_error: 0.0447 - val_loss: 0.0014 - val_mean_absolute_error: 0.0298\n",
            "Epoch 48/50\n",
            "\u001b[1m33/33\u001b[0m \u001b[32m━━━━━━━━━━━━━━━━━━━━\u001b[0m\u001b[37m\u001b[0m \u001b[1m4s\u001b[0m 104ms/step - loss: 0.0029 - mean_absolute_error: 0.0398 - val_loss: 0.0029 - val_mean_absolute_error: 0.0432\n",
            "Epoch 49/50\n",
            "\u001b[1m33/33\u001b[0m \u001b[32m━━━━━━━━━━━━━━━━━━━━\u001b[0m\u001b[37m\u001b[0m \u001b[1m5s\u001b[0m 102ms/step - loss: 0.0034 - mean_absolute_error: 0.0437 - val_loss: 0.0014 - val_mean_absolute_error: 0.0301\n",
            "Epoch 50/50\n",
            "\u001b[1m33/33\u001b[0m \u001b[32m━━━━━━━━━━━━━━━━━━━━\u001b[0m\u001b[37m\u001b[0m \u001b[1m6s\u001b[0m 117ms/step - loss: 0.0034 - mean_absolute_error: 0.0431 - val_loss: 0.0012 - val_mean_absolute_error: 0.0277\n"
          ]
        }
      ],
      "source": [
        "history = regressor.fit(\n",
        "    X_train, y_train,\n",
        "    epochs=50,\n",
        "    batch_size=32,\n",
        "    validation_data=(X_test, y_test),\n",
        "    verbose=1\n",
        ")"
      ]
    },
    {
      "cell_type": "markdown",
      "metadata": {
        "id": "XctzCfzbYCBK"
      },
      "source": [
        "## Evaluasi dan Visualisasi"
      ]
    },
    {
      "cell_type": "markdown",
      "metadata": {
        "id": "sZc32DhalxaN"
      },
      "source": [
        " Membuat prediksi menggunakan model LSTM (regressor) terhadap data pengujian (X_test). Hasil prediksi disimpan dalam variabel test_predicted, dan kemudian ditampilkan 5 hasil prediksi pertama."
      ]
    },
    {
      "cell_type": "code",
      "execution_count": 18,
      "metadata": {
        "colab": {
          "base_uri": "https://localhost:8080/"
        },
        "id": "kPDw6ZiNtE6T",
        "outputId": "8a9ed250-eace-42ab-aec4-64c0d10a5c67"
      },
      "outputs": [
        {
          "name": "stdout",
          "output_type": "stream",
          "text": [
            "\u001b[1m7/7\u001b[0m \u001b[32m━━━━━━━━━━━━━━━━━━━━\u001b[0m\u001b[37m\u001b[0m \u001b[1m1s\u001b[0m 132ms/step\n"
          ]
        },
        {
          "data": {
            "text/plain": [
              "array([[0.98040915, 0.9308781 , 0.92293435, 0.9170046 ],\n",
              "       [0.9705658 , 0.92051435, 0.91263115, 0.9071673 ],\n",
              "       [0.960868  , 0.91054094, 0.9028755 , 0.89771616],\n",
              "       [0.95504797, 0.90478814, 0.89746666, 0.8923092 ],\n",
              "       [0.9535003 , 0.903514  , 0.8965714 , 0.8911965 ]], dtype=float32)"
            ]
          },
          "execution_count": 18,
          "metadata": {},
          "output_type": "execute_result"
        }
      ],
      "source": [
        "#membuat prediksi berdasarkan data pengujian (test data) 5 data pertama\n",
        "test_predicted = regressor.predict(X_test)\n",
        "test_predicted[:5]"
      ]
    },
    {
      "cell_type": "markdown",
      "metadata": {
        "id": "QUv0bOvglzYC"
      },
      "source": [
        "Dari Hasil diatas Kolom pertama adalah high_predicted, low_predicted, open_predicted, close_predicted"
      ]
    },
    {
      "cell_type": "code",
      "execution_count": 19,
      "metadata": {
        "colab": {
          "base_uri": "https://localhost:8080/"
        },
        "id": "a6XB2VMhuSZd",
        "outputId": "7b1307a6-7f18-4af6-d1b0-76c747a46a10"
      },
      "outputs": [
        {
          "data": {
            "text/plain": [
              "array([[6225.598 , 6161.0703, 6027.0947, 6048.9297],\n",
              "       [6163.093 , 6117.75  , 5983.925 , 6007.318 ],\n",
              "       [6101.5117, 6076.061 , 5943.0483, 5967.3394],\n",
              "       [6064.5547, 6052.0146, 5920.3857, 5944.468 ],\n",
              "       [6054.7266, 6046.6885, 5916.6343, 5939.761 ]], dtype=float32)"
            ]
          },
          "execution_count": 19,
          "metadata": {},
          "output_type": "execute_result"
        }
      ],
      "source": [
        "# mengambil data hasil prediksi yang telah disesuaikan dengan scaling dan mengembalikannya ke dalam skala aslinya\n",
        "test_inverse_predicted = MMS.inverse_transform(test_predicted) # inversing scaling predidksi data\n",
        "test_inverse_predicted[:5]"
      ]
    },
    {
      "cell_type": "markdown",
      "metadata": {
        "id": "00Pc8xGcmEBO"
      },
      "source": [
        "Dari Hasil diatas Kolom pertama adalah high_predicted, low_predicted, open_predicted, close_predicted"
      ]
    },
    {
      "cell_type": "code",
      "execution_count": 20,
      "metadata": {
        "id": "mG_etZOP1Dir"
      },
      "outputs": [],
      "source": [
        "#menggabungkan (merge) dua set data menggunakan perpustakaan Pandas (pandas.concat).\n",
        "\n",
        "merge_data = pd.concat([df_scaled.iloc[-221:].copy(),pd.DataFrame(test_inverse_predicted,columns=['high_predicted','low_predicted','open_predicted','close_predicted'],index=df_scaled.iloc[-221:].index)], axis=1)"
      ]
    },
    {
      "cell_type": "code",
      "execution_count": 21,
      "metadata": {
        "id": "W0j4PVJGKim2"
      },
      "outputs": [],
      "source": [
        "# memungkinkan  untuk membandingkan prediksi dengan data historis dengan lebih mudah dalam konteks skala aslinya\n",
        "merge_data[['high','low','open_price','close']] = MMS.inverse_transform(merge_data[['high','low','open_price','close']]) # Inverse scaling"
      ]
    },
    {
      "cell_type": "code",
      "execution_count": 22,
      "metadata": {
        "colab": {
          "base_uri": "https://localhost:8080/",
          "height": 206
        },
        "id": "Wx3HS8z--mtj",
        "outputId": "429ff3c2-fa31-4167-89b3-247c03b8ea93"
      },
      "outputs": [
        {
          "data": {
            "application/vnd.google.colaboratory.intrinsic+json": {
              "summary": "{\n  \"name\": \"merge_data\",\n  \"rows\": 221,\n  \"fields\": [\n    {\n      \"column\": \"date\",\n      \"properties\": {\n        \"dtype\": \"date\",\n        \"min\": \"2024-03-19 00:00:00\",\n        \"max\": \"2025-02-21 00:00:00\",\n        \"num_unique_values\": 221,\n        \"samples\": [\n          \"2024-10-10 00:00:00\",\n          \"2024-11-01 00:00:00\",\n          \"2024-08-15 00:00:00\"\n        ],\n        \"semantic_type\": \"\",\n        \"description\": \"\"\n      }\n    },\n    {\n      \"column\": \"open_price\",\n      \"properties\": {\n        \"dtype\": \"number\",\n        \"std\": 333.49305783923626,\n        \"min\": 4680.59842519685,\n        \"max\": 6317.007874015748,\n        \"num_unique_values\": 113,\n        \"samples\": [\n          5446.015748031496,\n          6251.023622047244,\n          5030.314960629922\n        ],\n        \"semantic_type\": \"\",\n        \"description\": \"\"\n      }\n    },\n    {\n      \"column\": \"high\",\n      \"properties\": {\n        \"dtype\": \"number\",\n        \"std\": 771.6523268985896,\n        \"min\": 2506.5789473684213,\n        \"max\": 6160.107655502394,\n        \"num_unique_values\": 113,\n        \"samples\": [\n          3554.7846889952157,\n          6046.172248803829,\n          3296.531100478469\n        ],\n        \"semantic_type\": \"\",\n        \"description\": \"\"\n      }\n    },\n    {\n      \"column\": \"low\",\n      \"properties\": {\n        \"dtype\": \"number\",\n        \"std\": 500.4647397069494,\n        \"min\": 3906.0859188544155,\n        \"max\": 6325.298329355607,\n        \"num_unique_values\": 115,\n        \"samples\": [\n          5063.3174224343675,\n          6225.536992840095,\n          4404.892601431981\n        ],\n        \"semantic_type\": \"\",\n        \"description\": \"\"\n      }\n    },\n    {\n      \"column\": \"close\",\n      \"properties\": {\n        \"dtype\": \"number\",\n        \"std\": 507.33554092936004,\n        \"min\": 3800.0,\n        \"max\": 6300.0,\n        \"num_unique_values\": 110,\n        \"samples\": [\n          4520.0,\n          5650.0,\n          6300.0\n        ],\n        \"semantic_type\": \"\",\n        \"description\": \"\"\n      }\n    },\n    {\n      \"column\": \"high_predicted\",\n      \"properties\": {\n        \"dtype\": \"float32\",\n        \"num_unique_values\": 221,\n        \"samples\": [\n          4775.810546875,\n          4652.73828125,\n          4621.70263671875\n        ],\n        \"semantic_type\": \"\",\n        \"description\": \"\"\n      }\n    },\n    {\n      \"column\": \"low_predicted\",\n      \"properties\": {\n        \"dtype\": \"float32\",\n        \"num_unique_values\": 221,\n        \"samples\": [\n          5002.1640625,\n          4803.15087890625,\n          4739.0029296875\n        ],\n        \"semantic_type\": \"\",\n        \"description\": \"\"\n      }\n    },\n    {\n      \"column\": \"open_predicted\",\n      \"properties\": {\n        \"dtype\": \"float32\",\n        \"num_unique_values\": 221,\n        \"samples\": [\n          4890.69921875,\n          4689.93408203125,\n          4630.89208984375\n        ],\n        \"semantic_type\": \"\",\n        \"description\": \"\"\n      }\n    },\n    {\n      \"column\": \"close_predicted\",\n      \"properties\": {\n        \"dtype\": \"float32\",\n        \"num_unique_values\": 221,\n        \"samples\": [\n          4932.18701171875,\n          4735.6123046875,\n          4675.23583984375\n        ],\n        \"semantic_type\": \"\",\n        \"description\": \"\"\n      }\n    }\n  ]\n}",
              "type": "dataframe",
              "variable_name": "merge_data"
            },
            "text/html": [
              "\n",
              "  <div id=\"df-5e677201-fc07-48b0-ab54-1a656cb54ef4\" class=\"colab-df-container\">\n",
              "    <div>\n",
              "<style scoped>\n",
              "    .dataframe tbody tr th:only-of-type {\n",
              "        vertical-align: middle;\n",
              "    }\n",
              "\n",
              "    .dataframe tbody tr th {\n",
              "        vertical-align: top;\n",
              "    }\n",
              "\n",
              "    .dataframe thead th {\n",
              "        text-align: right;\n",
              "    }\n",
              "</style>\n",
              "<table border=\"1\" class=\"dataframe\">\n",
              "  <thead>\n",
              "    <tr style=\"text-align: right;\">\n",
              "      <th></th>\n",
              "      <th>date</th>\n",
              "      <th>open_price</th>\n",
              "      <th>high</th>\n",
              "      <th>low</th>\n",
              "      <th>close</th>\n",
              "      <th>high_predicted</th>\n",
              "      <th>low_predicted</th>\n",
              "      <th>open_predicted</th>\n",
              "      <th>close_predicted</th>\n",
              "    </tr>\n",
              "  </thead>\n",
              "  <tbody>\n",
              "    <tr>\n",
              "      <th>1134</th>\n",
              "      <td>2024-03-19</td>\n",
              "      <td>6119.055118</td>\n",
              "      <td>5742.344498</td>\n",
              "      <td>6075.894988</td>\n",
              "      <td>6000.0</td>\n",
              "      <td>6225.598145</td>\n",
              "      <td>6161.070312</td>\n",
              "      <td>6027.094727</td>\n",
              "      <td>6048.929688</td>\n",
              "    </tr>\n",
              "    <tr>\n",
              "      <th>1135</th>\n",
              "      <td>2024-03-20</td>\n",
              "      <td>6119.055118</td>\n",
              "      <td>5818.301435</td>\n",
              "      <td>6100.835322</td>\n",
              "      <td>6100.0</td>\n",
              "      <td>6163.092773</td>\n",
              "      <td>6117.750000</td>\n",
              "      <td>5983.924805</td>\n",
              "      <td>6007.317871</td>\n",
              "    </tr>\n",
              "    <tr>\n",
              "      <th>1136</th>\n",
              "      <td>2024-03-21</td>\n",
              "      <td>6234.527559</td>\n",
              "      <td>5970.215311</td>\n",
              "      <td>6200.596659</td>\n",
              "      <td>6100.0</td>\n",
              "      <td>6101.511719</td>\n",
              "      <td>6076.061035</td>\n",
              "      <td>5943.048340</td>\n",
              "      <td>5967.339355</td>\n",
              "    </tr>\n",
              "    <tr>\n",
              "      <th>1137</th>\n",
              "      <td>2024-03-22</td>\n",
              "      <td>6152.047244</td>\n",
              "      <td>5856.279904</td>\n",
              "      <td>6150.715990</td>\n",
              "      <td>6125.0</td>\n",
              "      <td>6064.554688</td>\n",
              "      <td>6052.014648</td>\n",
              "      <td>5920.385742</td>\n",
              "      <td>5944.467773</td>\n",
              "    </tr>\n",
              "    <tr>\n",
              "      <th>1138</th>\n",
              "      <td>2024-03-25</td>\n",
              "      <td>6218.031496</td>\n",
              "      <td>6046.172249</td>\n",
              "      <td>6225.536993</td>\n",
              "      <td>6250.0</td>\n",
              "      <td>6054.726562</td>\n",
              "      <td>6046.688477</td>\n",
              "      <td>5916.634277</td>\n",
              "      <td>5939.761230</td>\n",
              "    </tr>\n",
              "  </tbody>\n",
              "</table>\n",
              "</div>\n",
              "    <div class=\"colab-df-buttons\">\n",
              "\n",
              "  <div class=\"colab-df-container\">\n",
              "    <button class=\"colab-df-convert\" onclick=\"convertToInteractive('df-5e677201-fc07-48b0-ab54-1a656cb54ef4')\"\n",
              "            title=\"Convert this dataframe to an interactive table.\"\n",
              "            style=\"display:none;\">\n",
              "\n",
              "  <svg xmlns=\"http://www.w3.org/2000/svg\" height=\"24px\" viewBox=\"0 -960 960 960\">\n",
              "    <path d=\"M120-120v-720h720v720H120Zm60-500h600v-160H180v160Zm220 220h160v-160H400v160Zm0 220h160v-160H400v160ZM180-400h160v-160H180v160Zm440 0h160v-160H620v160ZM180-180h160v-160H180v160Zm440 0h160v-160H620v160Z\"/>\n",
              "  </svg>\n",
              "    </button>\n",
              "\n",
              "  <style>\n",
              "    .colab-df-container {\n",
              "      display:flex;\n",
              "      gap: 12px;\n",
              "    }\n",
              "\n",
              "    .colab-df-convert {\n",
              "      background-color: #E8F0FE;\n",
              "      border: none;\n",
              "      border-radius: 50%;\n",
              "      cursor: pointer;\n",
              "      display: none;\n",
              "      fill: #1967D2;\n",
              "      height: 32px;\n",
              "      padding: 0 0 0 0;\n",
              "      width: 32px;\n",
              "    }\n",
              "\n",
              "    .colab-df-convert:hover {\n",
              "      background-color: #E2EBFA;\n",
              "      box-shadow: 0px 1px 2px rgba(60, 64, 67, 0.3), 0px 1px 3px 1px rgba(60, 64, 67, 0.15);\n",
              "      fill: #174EA6;\n",
              "    }\n",
              "\n",
              "    .colab-df-buttons div {\n",
              "      margin-bottom: 4px;\n",
              "    }\n",
              "\n",
              "    [theme=dark] .colab-df-convert {\n",
              "      background-color: #3B4455;\n",
              "      fill: #D2E3FC;\n",
              "    }\n",
              "\n",
              "    [theme=dark] .colab-df-convert:hover {\n",
              "      background-color: #434B5C;\n",
              "      box-shadow: 0px 1px 3px 1px rgba(0, 0, 0, 0.15);\n",
              "      filter: drop-shadow(0px 1px 2px rgba(0, 0, 0, 0.3));\n",
              "      fill: #FFFFFF;\n",
              "    }\n",
              "  </style>\n",
              "\n",
              "    <script>\n",
              "      const buttonEl =\n",
              "        document.querySelector('#df-5e677201-fc07-48b0-ab54-1a656cb54ef4 button.colab-df-convert');\n",
              "      buttonEl.style.display =\n",
              "        google.colab.kernel.accessAllowed ? 'block' : 'none';\n",
              "\n",
              "      async function convertToInteractive(key) {\n",
              "        const element = document.querySelector('#df-5e677201-fc07-48b0-ab54-1a656cb54ef4');\n",
              "        const dataTable =\n",
              "          await google.colab.kernel.invokeFunction('convertToInteractive',\n",
              "                                                    [key], {});\n",
              "        if (!dataTable) return;\n",
              "\n",
              "        const docLinkHtml = 'Like what you see? Visit the ' +\n",
              "          '<a target=\"_blank\" href=https://colab.research.google.com/notebooks/data_table.ipynb>data table notebook</a>'\n",
              "          + ' to learn more about interactive tables.';\n",
              "        element.innerHTML = '';\n",
              "        dataTable['output_type'] = 'display_data';\n",
              "        await google.colab.output.renderOutput(dataTable, element);\n",
              "        const docLink = document.createElement('div');\n",
              "        docLink.innerHTML = docLinkHtml;\n",
              "        element.appendChild(docLink);\n",
              "      }\n",
              "    </script>\n",
              "  </div>\n",
              "\n",
              "\n",
              "<div id=\"df-065d22bd-8bba-4ca2-b168-37b182529281\">\n",
              "  <button class=\"colab-df-quickchart\" onclick=\"quickchart('df-065d22bd-8bba-4ca2-b168-37b182529281')\"\n",
              "            title=\"Suggest charts\"\n",
              "            style=\"display:none;\">\n",
              "\n",
              "<svg xmlns=\"http://www.w3.org/2000/svg\" height=\"24px\"viewBox=\"0 0 24 24\"\n",
              "     width=\"24px\">\n",
              "    <g>\n",
              "        <path d=\"M19 3H5c-1.1 0-2 .9-2 2v14c0 1.1.9 2 2 2h14c1.1 0 2-.9 2-2V5c0-1.1-.9-2-2-2zM9 17H7v-7h2v7zm4 0h-2V7h2v10zm4 0h-2v-4h2v4z\"/>\n",
              "    </g>\n",
              "</svg>\n",
              "  </button>\n",
              "\n",
              "<style>\n",
              "  .colab-df-quickchart {\n",
              "      --bg-color: #E8F0FE;\n",
              "      --fill-color: #1967D2;\n",
              "      --hover-bg-color: #E2EBFA;\n",
              "      --hover-fill-color: #174EA6;\n",
              "      --disabled-fill-color: #AAA;\n",
              "      --disabled-bg-color: #DDD;\n",
              "  }\n",
              "\n",
              "  [theme=dark] .colab-df-quickchart {\n",
              "      --bg-color: #3B4455;\n",
              "      --fill-color: #D2E3FC;\n",
              "      --hover-bg-color: #434B5C;\n",
              "      --hover-fill-color: #FFFFFF;\n",
              "      --disabled-bg-color: #3B4455;\n",
              "      --disabled-fill-color: #666;\n",
              "  }\n",
              "\n",
              "  .colab-df-quickchart {\n",
              "    background-color: var(--bg-color);\n",
              "    border: none;\n",
              "    border-radius: 50%;\n",
              "    cursor: pointer;\n",
              "    display: none;\n",
              "    fill: var(--fill-color);\n",
              "    height: 32px;\n",
              "    padding: 0;\n",
              "    width: 32px;\n",
              "  }\n",
              "\n",
              "  .colab-df-quickchart:hover {\n",
              "    background-color: var(--hover-bg-color);\n",
              "    box-shadow: 0 1px 2px rgba(60, 64, 67, 0.3), 0 1px 3px 1px rgba(60, 64, 67, 0.15);\n",
              "    fill: var(--button-hover-fill-color);\n",
              "  }\n",
              "\n",
              "  .colab-df-quickchart-complete:disabled,\n",
              "  .colab-df-quickchart-complete:disabled:hover {\n",
              "    background-color: var(--disabled-bg-color);\n",
              "    fill: var(--disabled-fill-color);\n",
              "    box-shadow: none;\n",
              "  }\n",
              "\n",
              "  .colab-df-spinner {\n",
              "    border: 2px solid var(--fill-color);\n",
              "    border-color: transparent;\n",
              "    border-bottom-color: var(--fill-color);\n",
              "    animation:\n",
              "      spin 1s steps(1) infinite;\n",
              "  }\n",
              "\n",
              "  @keyframes spin {\n",
              "    0% {\n",
              "      border-color: transparent;\n",
              "      border-bottom-color: var(--fill-color);\n",
              "      border-left-color: var(--fill-color);\n",
              "    }\n",
              "    20% {\n",
              "      border-color: transparent;\n",
              "      border-left-color: var(--fill-color);\n",
              "      border-top-color: var(--fill-color);\n",
              "    }\n",
              "    30% {\n",
              "      border-color: transparent;\n",
              "      border-left-color: var(--fill-color);\n",
              "      border-top-color: var(--fill-color);\n",
              "      border-right-color: var(--fill-color);\n",
              "    }\n",
              "    40% {\n",
              "      border-color: transparent;\n",
              "      border-right-color: var(--fill-color);\n",
              "      border-top-color: var(--fill-color);\n",
              "    }\n",
              "    60% {\n",
              "      border-color: transparent;\n",
              "      border-right-color: var(--fill-color);\n",
              "    }\n",
              "    80% {\n",
              "      border-color: transparent;\n",
              "      border-right-color: var(--fill-color);\n",
              "      border-bottom-color: var(--fill-color);\n",
              "    }\n",
              "    90% {\n",
              "      border-color: transparent;\n",
              "      border-bottom-color: var(--fill-color);\n",
              "    }\n",
              "  }\n",
              "</style>\n",
              "\n",
              "  <script>\n",
              "    async function quickchart(key) {\n",
              "      const quickchartButtonEl =\n",
              "        document.querySelector('#' + key + ' button');\n",
              "      quickchartButtonEl.disabled = true;  // To prevent multiple clicks.\n",
              "      quickchartButtonEl.classList.add('colab-df-spinner');\n",
              "      try {\n",
              "        const charts = await google.colab.kernel.invokeFunction(\n",
              "            'suggestCharts', [key], {});\n",
              "      } catch (error) {\n",
              "        console.error('Error during call to suggestCharts:', error);\n",
              "      }\n",
              "      quickchartButtonEl.classList.remove('colab-df-spinner');\n",
              "      quickchartButtonEl.classList.add('colab-df-quickchart-complete');\n",
              "    }\n",
              "    (() => {\n",
              "      let quickchartButtonEl =\n",
              "        document.querySelector('#df-065d22bd-8bba-4ca2-b168-37b182529281 button');\n",
              "      quickchartButtonEl.style.display =\n",
              "        google.colab.kernel.accessAllowed ? 'block' : 'none';\n",
              "    })();\n",
              "  </script>\n",
              "</div>\n",
              "\n",
              "    </div>\n",
              "  </div>\n"
            ],
            "text/plain": [
              "           date   open_price         high          low   close  \\\n",
              "1134 2024-03-19  6119.055118  5742.344498  6075.894988  6000.0   \n",
              "1135 2024-03-20  6119.055118  5818.301435  6100.835322  6100.0   \n",
              "1136 2024-03-21  6234.527559  5970.215311  6200.596659  6100.0   \n",
              "1137 2024-03-22  6152.047244  5856.279904  6150.715990  6125.0   \n",
              "1138 2024-03-25  6218.031496  6046.172249  6225.536993  6250.0   \n",
              "\n",
              "      high_predicted  low_predicted  open_predicted  close_predicted  \n",
              "1134     6225.598145    6161.070312     6027.094727      6048.929688  \n",
              "1135     6163.092773    6117.750000     5983.924805      6007.317871  \n",
              "1136     6101.511719    6076.061035     5943.048340      5967.339355  \n",
              "1137     6064.554688    6052.014648     5920.385742      5944.467773  \n",
              "1138     6054.726562    6046.688477     5916.634277      5939.761230  "
            ]
          },
          "execution_count": 22,
          "metadata": {},
          "output_type": "execute_result"
        }
      ],
      "source": [
        "merge_data.head() #mengetahui beberapa barus pertama dari dataframe"
      ]
    },
    {
      "cell_type": "markdown",
      "metadata": {
        "id": "5LMDTDipqoH6"
      },
      "source": [
        "DataFrame merge_data yang ditampilkan berisi gabungan antara data harga historis asli dan hasil prediksi model, yang sudah dikembalikan ke skala harga sebenarnya (melalui inverse scaling). Setiap baris mewakili satu tanggal tertentu, dan setiap kolom memiliki arti sebagai berikut:\n",
        "*   date: tanggal data tersebut dicatat.\n",
        "*   open_price, high, low, close: nilai aktual harga pembukaan, harga tertinggi, harga terendah, dan harga penutupan pada hari tersebut.\n",
        "*   open_predicted, high_predicted, low_predicted, close_predicted: nilai hasil prediksi model untuk harga pembukaan, tertinggi, terendah, dan penutupan pada tanggal yang sama.\n",
        "\n",
        "Dengan adanya dua set nilai (aktual dan prediksi), DataFrame ini memudahkan kita untuk mengevaluasi performa model, misalnya dengan menghitung error atau melakukan visualisasi perbandingan antara harga aktual dan prediksi.\n",
        "\n",
        "\n"
      ]
    },
    {
      "cell_type": "markdown",
      "metadata": {
        "id": "R7tLxGUbqpzQ"
      },
      "source": [
        "##Visualisasi Actual Price dan Prediction Price"
      ]
    },
    {
      "cell_type": "code",
      "execution_count": 23,
      "metadata": {
        "colab": {
          "base_uri": "https://localhost:8080/",
          "height": 595
        },
        "id": "JVYbs9Yvajb2",
        "outputId": "c769be63-0d2d-4723-e97d-5b4171e156f8"
      },
      "outputs": [
        {
          "data": {
            "image/png": "[encoded data removed]",
            "text/plain": [
              "<Figure size 1200x600 with 1 Axes>"
            ]
          },
          "metadata": {},
          "output_type": "display_data"
        }
      ],
      "source": [
        "# Pastikan kolom 'date' jadi index (datetime), jika belum\n",
        "merge_data['date'] = pd.to_datetime(merge_data['date'])\n",
        "merge_data.set_index('date', inplace=True)\n",
        "\n",
        "# Plotting\n",
        "fig, ax = plt.subplots(figsize=(12, 6))\n",
        "ax.plot(merge_data['close'], label='Harga Aktual', color='blue', linestyle='dashed')\n",
        "ax.plot(merge_data['close_predicted'], label='Harga Prediksi', color='orange')\n",
        "\n",
        "# Format tampilan\n",
        "ax.set_title('Perbandingan Harga Tertinggi Aktual vs Prediksi', fontsize=15)\n",
        "ax.set_xlabel('Tanggal', fontsize=12)\n",
        "ax.set_ylabel('Harga Saham', fontsize=12)\n",
        "plt.xticks(rotation=45)\n",
        "ax.legend()\n",
        "plt.grid(True)\n",
        "plt.tight_layout()\n",
        "plt.show()"
      ]
    },
    {
      "cell_type": "markdown",
      "metadata": {
        "id": "zEnC2aNerGk3"
      },
      "source": [
        "##Evaluasi Model MSE, RMSE, R2 SCORE"
      ]
    },
    {
      "cell_type": "code",
      "execution_count": 24,
      "metadata": {
        "colab": {
          "base_uri": "https://localhost:8080/"
        },
        "id": "EKk-ScZWYCBK",
        "outputId": "d2c79dcf-d391-42b2-9b55-7a00c60a9ad3"
      },
      "outputs": [
        {
          "name": "stdout",
          "output_type": "stream",
          "text": [
            "Mean Squared Error (MSE): 0.0012070822955819007\n",
            "Root Mean Squared Error (RMSE): 0.03474308989686871\n",
            "R-squared (R2) Score: 0.9008055784632566\n"
          ]
        }
      ],
      "source": [
        "from sklearn.metrics import mean_squared_error, r2_score\n",
        "\n",
        "# Menghitung Mean Squared Error (MSE)\n",
        "mse = mean_squared_error(y_test, test_predicted)\n",
        "print(\"Mean Squared Error (MSE):\", mse)\n",
        "\n",
        "# Menghitung Root Mean Squared Error (RMSE)\n",
        "rmse = np.sqrt(mse)\n",
        "print(\"Root Mean Squared Error (RMSE):\", rmse)\n",
        "\n",
        "# Menghitung R-squared (R2) score\n",
        "r2 = r2_score(y_test, test_predicted)\n",
        "print(\"R-squared (R2) Score:\", r2)"
      ]
    },
    {
      "cell_type": "markdown",
      "metadata": {
        "id": "shzBtXpPrae4"
      },
      "source": [
        "Evaluasi model menggunakan tiga metrik yaitu Mean Squared Error (MSE), Root Mean Squared Error (RMSE), dan R-squared (R²) Score memberikan gambaran tentang seberapa baik model memprediksi harga:\n",
        "*   MSE (0.0012) menunjukkan rata-rata kuadrat selisih antara nilai aktual dan nilai prediksi. Nilai yang kecil mengindikasikan bahwa prediksi model cukup dekat dengan data asli.\n",
        "*   RMSE (0.0347) merupakan akar dari MSE, yang menyatakan rata-rata kesalahan dalam satuan aslinya (misalnya harga dalam ribuan rupiah). Nilai ini juga tergolong kecil, artinya prediksi tidak jauh menyimpang.\n",
        "*   R² Score (0.9008) mengukur seberapa baik variasi dalam data bisa dijelaskan oleh model. Nilai mendekati 1 (maksimal) berarti model sangat baik dalam menjelaskan variasi data.\n",
        "\n",
        "Kesimpulan: Model LSTM yang digunakan memiliki performa prediksi yang baik, dengan error yang kecil dan tingkat penjelasan yang tinggi terhadap data aktual (R² = 90%). Artinya, model ini mampu memprediksi pergerakan harga dengan akurasi yang cukup tinggi.\n",
        "\n",
        "\n"
      ]
    }
  ],
  "metadata": {
    "colab": {
      "provenance": []
    },
    "kernelspec": {
      "display_name": "Python 3",
      "name": "python3"
    },
    "language_info": {
      "name": "python"
    }
  },
  "nbformat": 4,
  "nbformat_minor": 0
}
